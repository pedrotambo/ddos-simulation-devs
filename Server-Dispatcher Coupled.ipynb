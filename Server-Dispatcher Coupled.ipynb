{
 "cells": [
  {
   "cell_type": "markdown",
   "metadata": {},
   "source": [
    "# Server-Dispatcher Coupled\n",
    "\n",
    "Vamos a probar como se comportan el server y el dispatcher aisladamente. Crearemos un dispatcher y 3 servers libres."
   ]
  },
  {
   "cell_type": "code",
   "execution_count": 35,
   "metadata": {},
   "outputs": [],
   "source": [
    "from pringles.simulator import Simulator\n",
    "mySimulator = Simulator(cdpp_bin_path='bin/', user_models_dir='src/')\n",
    "\n",
    "atomics = dict([(atomic.__name__, atomic) for atomic in mySimulator.atomic_registry.discovered_atomics])\n",
    "Server = atomics['Server']\n",
    "Dispatcher = atomics['Dispatcher']"
   ]
  },
  {
   "cell_type": "markdown",
   "metadata": {},
   "source": [
    "Los servers se inicializarán en el estado dado, y el dispatcher deberá conocer dicha configuración inicial también."
   ]
  },
  {
   "cell_type": "code",
   "execution_count": 36,
   "metadata": {},
   "outputs": [
    {
     "name": "stdout",
     "output_type": "stream",
     "text": [
      "--Dispatcher ports\n",
      "Inport names:  ['newJob', 'jobDone', 'serverStatus']\n",
      "Outport names:  ['requestJob', 'server0', 'server1', 'server2']\n",
      "--Server ports--\n",
      "Inport names:  ['job', 'powerSignal']\n",
      "Outport names:  ['done', 'ready']\n"
     ]
    }
   ],
   "source": [
    "from pringles.models import Coupled\n",
    "number_of_servers = 3\n",
    "a_dispatcher = Dispatcher(\"a_dispatcher\", \n",
    "                          numberOfServers=number_of_servers, \n",
    "                          server0=\"free\",\n",
    "                          server1=\"free\",\n",
    "                          server2=\"free\")\n",
    "\n",
    "servers = [Server(\"server\" + str(i), initialStatus=\"free\", mean=10.0, setupTime=\"0:0:10:0\") for i in range(number_of_servers)]\n",
    "    \n",
    "print(\"--Dispatcher ports\")\n",
    "print(\"Inport names: \", [port.name for port in a_dispatcher.inports])\n",
    "print(\"Outport names: \", [port.name for port in a_dispatcher.outports])\n",
    "\n",
    "print(\"--Server ports--\")\n",
    "print(\"Inport names: \", [port.name for port in servers[0].inports])\n",
    "print(\"Outport names: \", [port.name for port in servers[0].outports])"
   ]
  },
  {
   "cell_type": "markdown",
   "metadata": {},
   "source": [
    "Ahora conectaremos las componentes:\n",
    "- El dispatcher se conectará con un puerto dedicado para cada server para pedirle que procese un job.\n",
    "- Los servers avisarán al dispatcher a través de su puerto de salida 'jobDone' cuando terminen el job.\n",
    "- A través del puerto de salida 'requestJob' del acoplado Top, se simulará cuando el dispatcher tiene servidores libres y pide un job a la Queue para procesar un nuevo job.\n",
    "- A través del puerto de entrada 'newJob' del acoplado Top, se simulará cuando la Queue le envía al dispatcher un nuevo job.\n",
    "- A través del puerto de entrada 'serverStatus' del acoplado Top, se simulará cuando el AutoScaler le avisa al dispatcher sobre nuevos estados de los servidores."
   ]
  },
  {
   "cell_type": "code",
   "execution_count": 37,
   "metadata": {},
   "outputs": [
    {
     "data": {
      "text/html": [
       "<div id=\"54385194795b4b0abc9178aad8b272bd\" class=\"devs_diagrammer_wrapper\">\n",
       "\n",
       "  <link rel=\"stylesheet\" href=\"http://localhost:55923/_static/css/style.css\" />\n",
       "\n",
       "  <script src=\"http://localhost:55923/_static/vendors/js/createjs/createjs-2013.12.12.min.js\"></script>\n",
       "  <script src=\"http://localhost:55923/_static/vendors/js/jquery-3.2.1/jquery-3.2.1.min.js\"></script>\n",
       "  <script src=\"http://localhost:55923/_static/js/ColorCodes.js\"></script>\n",
       "  <script src=\"http://localhost:55923/_static/js/main.js\"></script>\n",
       "  <script src=\"http://localhost:55923/_static/js/manifest.js\"></script>\n",
       "  <script src=\"http://localhost:55923/_static/js/toposort.js\"></script>\n",
       "  <script src=\"http://localhost:55923/_static/js/Square.js\"></script>\n",
       "  <script src=\"http://localhost:55923/_static/js/Port.js\"></script>\n",
       "  <script src=\"http://localhost:55923/_static/js/Link.js\"></script>\n",
       "  <script src=\"http://localhost:55923/_static/js/JSONModelGraphics.js\"></script>\n",
       "  <script src=\"http://localhost:55923/_static/js/Model.js\"></script>\n",
       "  <script src=\"http://localhost:55923/_static/js/Canvas.js\"></script>\n",
       " \n",
       "  <script type=\"text/javascript\">\n",
       "    $(document).ready(function () {\n",
       "      console.info(\"About to start drawing model\");\n",
       "      menu_init();\n",
       "      addCanvasFromJson('{\"id\": \"top\", \"type\": \"coupled\", \"models\": [{\"id\": \"a_dispatcher\", \"type\": \"atomic\", \"ports\": {\"out\": [{\"name\": \"requestJob\", \"message_type\": \"Any\", \"kind\": \"out\"}, {\"name\": \"server0\", \"message_type\": \"Any\", \"kind\": \"out\"}, {\"name\": \"server1\", \"message_type\": \"Any\", \"kind\": \"out\"}, {\"name\": \"server2\", \"message_type\": \"Any\", \"kind\": \"out\"}], \"in\": [{\"name\": \"newJob\", \"message_type\": \"Any\", \"kind\": \"in\"}, {\"name\": \"jobDone\", \"message_type\": \"Any\", \"kind\": \"in\"}, {\"name\": \"serverStatus\", \"message_type\": \"Any\", \"kind\": \"in\"}]}}, {\"id\": \"server0\", \"type\": \"atomic\", \"ports\": {\"out\": [{\"name\": \"done\", \"message_type\": \"Any\", \"kind\": \"out\"}, {\"name\": \"ready\", \"message_type\": \"Any\", \"kind\": \"out\"}], \"in\": [{\"name\": \"job\", \"message_type\": \"Any\", \"kind\": \"in\"}, {\"name\": \"powerSignal\", \"message_type\": \"Any\", \"kind\": \"in\"}]}}, {\"id\": \"server1\", \"type\": \"atomic\", \"ports\": {\"out\": [{\"name\": \"done\", \"message_type\": \"Any\", \"kind\": \"out\"}, {\"name\": \"ready\", \"message_type\": \"Any\", \"kind\": \"out\"}], \"in\": [{\"name\": \"job\", \"message_type\": \"Any\", \"kind\": \"in\"}, {\"name\": \"powerSignal\", \"message_type\": \"Any\", \"kind\": \"in\"}]}}, {\"id\": \"server2\", \"type\": \"atomic\", \"ports\": {\"out\": [{\"name\": \"done\", \"message_type\": \"Any\", \"kind\": \"out\"}, {\"name\": \"ready\", \"message_type\": \"Any\", \"kind\": \"out\"}], \"in\": [{\"name\": \"job\", \"message_type\": \"Any\", \"kind\": \"in\"}, {\"name\": \"powerSignal\", \"message_type\": \"Any\", \"kind\": \"in\"}]}}], \"ports\": {\"out\": [{\"name\": \"requestJob\", \"message_type\": \"Any\", \"kind\": \"out\"}], \"in\": [{\"name\": \"newJob\", \"message_type\": \"Any\", \"kind\": \"in\"}, {\"name\": \"jobDone\", \"message_type\": \"Any\", \"kind\": \"in\"}, {\"name\": \"serverStatus\", \"message_type\": \"Any\", \"kind\": \"in\"}]}, \"eoc\": [{\"to_port\": \"requestJob\", \"from_port\": \"requestJob\", \"from_model\": \"a_dispatcher\"}], \"eic\": [{\"to_port\": \"newJob\", \"to_model\": \"a_dispatcher\", \"from_port\": \"newJob\"}, {\"to_port\": \"jobDone\", \"to_model\": \"a_dispatcher\", \"from_port\": \"jobDone\"}, {\"to_port\": \"serverStatus\", \"to_model\": \"a_dispatcher\", \"from_port\": \"serverStatus\"}], \"ic\": [{\"to_port\": \"job\", \"to_model\": \"server0\", \"from_port\": \"server0\", \"from_model\": \"a_dispatcher\"}, {\"to_port\": \"job\", \"to_model\": \"server1\", \"from_port\": \"server1\", \"from_model\": \"a_dispatcher\"}, {\"to_port\": \"job\", \"to_model\": \"server2\", \"from_port\": \"server2\", \"from_model\": \"a_dispatcher\"}, {\"to_port\": \"jobDone\", \"to_model\": \"a_dispatcher\", \"from_port\": \"done\", \"from_model\": \"server0\"}, {\"to_port\": \"jobDone\", \"to_model\": \"a_dispatcher\", \"from_port\": \"done\", \"from_model\": \"server1\"}, {\"to_port\": \"jobDone\", \"to_model\": \"a_dispatcher\", \"from_port\": \"done\", \"from_model\": \"server2\"}]}', '54385194795b4b0abc9178aad8b272bd');\n",
       "    });\n",
       "  </script>\n",
       "\n",
       "  <!-- hiden button for export JSON -->\n",
       "  <a id=\"download\" style=\"display:none\"></a>\n",
       "  <!-- hiden button for export JSON -->\n",
       "  <div id=\"devs_diagrammer\">\n",
       "    <div id='body-wrapper'>\n",
       "      <div id=\"models-wrapper\"></div>\n",
       "      <div id=\"menu-wrapper\">\n",
       "        <button id=\"expand_in_new_canvas_selected\" class=\"action bp3-button bp3-minimal\" type=\"button\">Expand in new canvas</button>\n",
       "        <button class=\"action bp3-button bp3-minimal\" type=\"button\" onclick=\"remove_selected_top_models();\">Remove model</button>\n",
       "        <button class=\"action bp3-button bp3-minimal\" type=\"button\" onclick=\"toggle_models_selected();\">Expand / Contract</button>\n",
       "        <button class=\"action bp3-button bp3-minimal\" type=\"button\" onclick=\"toggle_links_selected();\">Show / Hide all links</button>\n",
       "        <button class=\"action bp3-button bp3-minimal\" type=\"button\" onclick=\"show_submodel_links_selected();\">Show / Hide model links</button>\n",
       "        <button class=\"action bp3-button bp3-minimal\" type=\"button\" onclick=\"toggle_port_name_selected();\">Show / Hide port names</button>\n",
       "      </div>\n",
       "    </div>\n",
       "  </div>\n",
       "</div>"
      ],
      "text/plain": [
       "<pringles.models.models.Coupled at 0x1190e5d90>"
      ]
     },
     "execution_count": 37,
     "metadata": {},
     "output_type": "execute_result"
    }
   ],
   "source": [
    "subcomponents = [a_dispatcher] + servers\n",
    "    \n",
    "top_model = (Coupled(name='top', subcomponents=subcomponents)\n",
    "             .add_inport(\"newJob\")\n",
    "             .add_inport(\"jobDone\")             \n",
    "             .add_inport(\"serverStatus\")\n",
    "             .add_outport(\"requestJob\")\n",
    "             \n",
    "             .add_coupling('newJob', a_dispatcher.get_port(\"newJob\"))\n",
    "             .add_coupling('jobDone', a_dispatcher.get_port(\"jobDone\"))\n",
    "             .add_coupling('serverStatus', a_dispatcher.get_port(\"serverStatus\"))\n",
    "             \n",
    "             .add_coupling(a_dispatcher.get_port('requestJob'), \"requestJob\")\n",
    "             .add_coupling(a_dispatcher.get_port('server0'), servers[0].get_port('job'))\n",
    "             .add_coupling(a_dispatcher.get_port('server1'), servers[1].get_port('job'))\n",
    "             .add_coupling(a_dispatcher.get_port('server2'), servers[2].get_port('job'))\n",
    "             \n",
    "             .add_coupling(servers[0].get_port('done'), a_dispatcher.get_port('jobDone'))\n",
    "             .add_coupling(servers[1].get_port('done'), a_dispatcher.get_port('jobDone'))\n",
    "             .add_coupling(servers[2].get_port('done'), a_dispatcher.get_port('jobDone'))\n",
    "             \n",
    "            )\n",
    "top_model"
   ]
  },
  {
   "cell_type": "code",
   "execution_count": 38,
   "metadata": {},
   "outputs": [],
   "source": [
    "from pringles.simulator import Simulation, Event\n",
    "from pringles.utils import VirtualTime\n",
    "\n",
    "sim_events = [\n",
    "    # Empiezan los 3 servidores prendidos. Y se avisa que el 2 está apagado (habría que mandarle tmb que se apague)\n",
    "    Event(VirtualTime(0,0,20,0,0), top_model.get_port('serverStatus'), [float(2),float(0)]),\n",
    "    # Llega un Job a los 25 y el dispatcher lo debería mandar al server 0 porque es el de menor ID\n",
    "    Event(VirtualTime(0,0,25,0,0), top_model.get_port('newJob'), float(1)),\n",
    "    # Llega que se prendió de nuevo el server 2\n",
    "    Event(VirtualTime(0,0,35,0,0), top_model.get_port('serverStatus'), [float(2),float(1)]),\n",
    "    # Llega otro Job a los 38 y se los manda de nuevo al server 0 (en la simulación el server 0 termina el job anterior\n",
    "    # en el segundo 36)\n",
    "    Event(VirtualTime(0,0,38,0,0), top_model.get_port('newJob'), float(1)),\n",
    "    # Llega en 40 que se apagó el 0, pero el lo tenía en busy, espera que se apague y lo pasa a off\n",
    "    Event(VirtualTime(0,0,40,0,0), top_model.get_port('serverStatus'), [float(0),float(0)]),\n",
    "    # Llega en 42 un Job y como el 0 está en apagado/busy, se lo manda al server 1\n",
    "    Event(VirtualTime(0,0,42,0,0), top_model.get_port('newJob'), float(1)),\n",
    "    # Llega en 43 que se apague el 1, espera que se termine el job y lo apaga\n",
    "    Event(VirtualTime(0,0,43,0,0), top_model.get_port('serverStatus'), [float(1),float(0)]),\n",
    "    # Llega en 44 un Job y se lo manda al server 2, el único prendido\n",
    "    Event(VirtualTime(0,0,44,0,0), top_model.get_port('newJob'), float(1)),\n",
    "]\n",
    "\n",
    "a_simulation = Simulation(top_model = top_model, \n",
    "                          duration = VirtualTime.of_minutes(50), \n",
    "                          events=sim_events,\n",
    "                          working_dir='sim_results/server-dispatcher'\n",
    "                         )\n",
    "\n",
    "results = mySimulator.run_simulation(a_simulation)"
   ]
  },
  {
   "cell_type": "code",
   "execution_count": 39,
   "metadata": {
    "scrolled": true
   },
   "outputs": [
    {
     "name": "stdout",
     "output_type": "stream",
     "text": [
      "PCD++: A Tool to Implement n-Dimensional Cell-DEVS models\n",
      "Version 3.0 - March 2003\n",
      "Troccoli A., Rodriguez D., Wainer G., Barylko A., Beyoglonian J., Lopez A.\n",
      "-----------------------------------------------------------------------------\n",
      "PCD++ Extended States: An extended and improved version of CD++ for Cell-DEVS\n",
      "Version 4.1.2 - December 2018\n",
      "Santi L., Castro, R., Pimás, J.\n",
      "-----------------------------------------------------------------------------\n",
      "Discrete Event Simulation Lab\n",
      "Departamento de Computación\n",
      "Facultad de Ciencias Exactas y Naturales\n",
      "Universidad de Buenos Aires, Argentina\n",
      "-----------------------------------------------------------------------------\n",
      "Compiled for standalone simulation\n",
      "\n",
      "\n",
      "Loading models from sim_results/server-dispatcher/2019-11-16-191630-a067c772d34149ed9c4d83167ce7e299/top_model\n",
      "Loading events from sim_results/server-dispatcher/2019-11-16-191630-a067c772d34149ed9c4d83167ce7e299/events\n",
      "Running parallel simulation. Reading models partition from \n",
      "Model partition details output to: /dev/null*\n",
      "Message log: sim_results/server-dispatcher/2019-11-16-191630-a067c772d34149ed9c4d83167ce7e299/logs\n",
      "Output to: sim_results/server-dispatcher/2019-11-16-191630-a067c772d34149ed9c4d83167ce7e299/output\n",
      "Tolerance set to: 1e-08\n",
      "Configuration to show real numbers: Width = 12 - Precision = 5\n",
      "Quantum: Not used\n",
      "Evaluate Debug Mode = OFF\n",
      "Flat Cell Debug Mode = OFF\n",
      "Debug Cell Rules Mode = OFF\n",
      "Temporary File created by Preprocessor = /var/tmp/tmp.0.KBbchO\n",
      "Printing parser information = OFF\n",
      "\n",
      "Stop at time: 00:50:00:000:0\n",
      "LP 0: initializing simulation objects\n",
      "00:00:20:000:0 / serverstatus / [2, 0]\n",
      "00:00:25:000:0 / newjob /      1.00000\n",
      "00:00:35:000:0 / serverstatus / [2, 1]\n",
      "00:00:38:000:0 / newjob /      1.00000\n",
      "00:00:40:000:0 / serverstatus / [0, 0]\n",
      "00:00:42:000:0 / newjob /      1.00000\n",
      "00:00:43:000:0 / serverstatus / [1, 0]\n",
      "00:00:44:000:0 / newjob /      1.00000\n",
      "LP 0: starting simulation (NoTime).\n",
      "Aborting simulation...\n",
      "\n"
     ]
    }
   ],
   "source": [
    "print(results.get_process_output())"
   ]
  },
  {
   "cell_type": "code",
   "execution_count": 40,
   "metadata": {},
   "outputs": [
    {
     "data": {
      "text/html": [
       "<div>\n",
       "<style scoped>\n",
       "    .dataframe tbody tr th:only-of-type {\n",
       "        vertical-align: middle;\n",
       "    }\n",
       "\n",
       "    .dataframe tbody tr th {\n",
       "        vertical-align: top;\n",
       "    }\n",
       "\n",
       "    .dataframe thead th {\n",
       "        text-align: right;\n",
       "    }\n",
       "</style>\n",
       "<table border=\"1\" class=\"dataframe\">\n",
       "  <thead>\n",
       "    <tr style=\"text-align: right;\">\n",
       "      <th></th>\n",
       "      <th>time</th>\n",
       "      <th>port</th>\n",
       "      <th>value</th>\n",
       "    </tr>\n",
       "  </thead>\n",
       "  <tbody>\n",
       "    <tr>\n",
       "      <th>0</th>\n",
       "      <td>00:00:00:000</td>\n",
       "      <td>requestjob</td>\n",
       "      <td>1.0</td>\n",
       "    </tr>\n",
       "    <tr>\n",
       "      <th>1</th>\n",
       "      <td>00:00:25:000</td>\n",
       "      <td>requestjob</td>\n",
       "      <td>1.0</td>\n",
       "    </tr>\n",
       "    <tr>\n",
       "      <th>2</th>\n",
       "      <td>00:00:38:000</td>\n",
       "      <td>requestjob</td>\n",
       "      <td>1.0</td>\n",
       "    </tr>\n",
       "  </tbody>\n",
       "</table>\n",
       "</div>"
      ],
      "text/plain": [
       "           time        port  value\n",
       "0  00:00:00:000  requestjob    1.0\n",
       "1  00:00:25:000  requestjob    1.0\n",
       "2  00:00:38:000  requestjob    1.0"
      ]
     },
     "metadata": {},
     "output_type": "display_data"
    }
   ],
   "source": [
    "# En los evetos podemos ver que llegan 4 jobs\n",
    "# Por lo que debemos ver 5 requests de jobs pues todos los jobs son terminados en la simulación.\n",
    "display(results.output_df)"
   ]
  },
  {
   "cell_type": "markdown",
   "metadata": {},
   "source": [
    "Como podemos observar, los mensajes que siguen abajo, son los mismos que en el notebook sin la Queue."
   ]
  },
  {
   "cell_type": "code",
   "execution_count": 41,
   "metadata": {},
   "outputs": [
    {
     "data": {
      "text/html": [
       "<div>\n",
       "<style scoped>\n",
       "    .dataframe tbody tr th:only-of-type {\n",
       "        vertical-align: middle;\n",
       "    }\n",
       "\n",
       "    .dataframe tbody tr th {\n",
       "        vertical-align: top;\n",
       "    }\n",
       "\n",
       "    .dataframe thead th {\n",
       "        text-align: right;\n",
       "    }\n",
       "</style>\n",
       "<table border=\"1\" class=\"dataframe\">\n",
       "  <thead>\n",
       "    <tr style=\"text-align: right;\">\n",
       "      <th></th>\n",
       "      <th>0</th>\n",
       "      <th>1</th>\n",
       "      <th>message_type</th>\n",
       "      <th>time</th>\n",
       "      <th>model_origin</th>\n",
       "      <th>port</th>\n",
       "      <th>value</th>\n",
       "      <th>model_dest</th>\n",
       "    </tr>\n",
       "  </thead>\n",
       "  <tbody>\n",
       "    <tr>\n",
       "      <th>0</th>\n",
       "      <td>0</td>\n",
       "      <td>L</td>\n",
       "      <td>X</td>\n",
       "      <td>00:00:25:000</td>\n",
       "      <td>top(05)</td>\n",
       "      <td>job</td>\n",
       "      <td>0.0</td>\n",
       "      <td>server0(02)</td>\n",
       "    </tr>\n",
       "  </tbody>\n",
       "</table>\n",
       "</div>"
      ],
      "text/plain": [
       "   0  1 message_type          time model_origin port  value   model_dest\n",
       "0  0  L            X  00:00:25:000      top(05)  job    0.0  server0(02)"
      ]
     },
     "metadata": {},
     "output_type": "display_data"
    }
   ],
   "source": [
    "# Veamos que le llegan al server 0 los primeros 2 jobs, hasta que lo apagan en segundo 40\n",
    "display(results.logs_dfs['server0'])"
   ]
  },
  {
   "cell_type": "code",
   "execution_count": 42,
   "metadata": {
    "scrolled": true
   },
   "outputs": [
    {
     "data": {
      "text/html": [
       "<div>\n",
       "<style scoped>\n",
       "    .dataframe tbody tr th:only-of-type {\n",
       "        vertical-align: middle;\n",
       "    }\n",
       "\n",
       "    .dataframe tbody tr th {\n",
       "        vertical-align: top;\n",
       "    }\n",
       "\n",
       "    .dataframe thead th {\n",
       "        text-align: right;\n",
       "    }\n",
       "</style>\n",
       "<table border=\"1\" class=\"dataframe\">\n",
       "  <thead>\n",
       "    <tr style=\"text-align: right;\">\n",
       "      <th></th>\n",
       "      <th>0</th>\n",
       "      <th>1</th>\n",
       "      <th>message_type</th>\n",
       "      <th>time</th>\n",
       "      <th>model_origin</th>\n",
       "      <th>port</th>\n",
       "      <th>value</th>\n",
       "      <th>model_dest</th>\n",
       "    </tr>\n",
       "  </thead>\n",
       "  <tbody>\n",
       "    <tr>\n",
       "      <th>0</th>\n",
       "      <td>0</td>\n",
       "      <td>L</td>\n",
       "      <td>X</td>\n",
       "      <td>00:00:38:000</td>\n",
       "      <td>top(05)</td>\n",
       "      <td>job</td>\n",
       "      <td>1.0</td>\n",
       "      <td>server1(03)</td>\n",
       "    </tr>\n",
       "  </tbody>\n",
       "</table>\n",
       "</div>"
      ],
      "text/plain": [
       "   0  1 message_type          time model_origin port  value   model_dest\n",
       "0  0  L            X  00:00:38:000      top(05)  job    1.0  server1(03)"
      ]
     },
     "metadata": {},
     "output_type": "display_data"
    }
   ],
   "source": [
    "# Veamos que el siguiente job le llega al server 1 en el segundo 42, y luego lo apagan en el segundo 43\n",
    "# Y se espera a que termine para apagarlo\n",
    "display(results.logs_dfs['server1'])"
   ]
  },
  {
   "cell_type": "code",
   "execution_count": 43,
   "metadata": {},
   "outputs": [
    {
     "data": {
      "text/html": [
       "<div>\n",
       "<style scoped>\n",
       "    .dataframe tbody tr th:only-of-type {\n",
       "        vertical-align: middle;\n",
       "    }\n",
       "\n",
       "    .dataframe tbody tr th {\n",
       "        vertical-align: top;\n",
       "    }\n",
       "\n",
       "    .dataframe thead th {\n",
       "        text-align: right;\n",
       "    }\n",
       "</style>\n",
       "<table border=\"1\" class=\"dataframe\">\n",
       "  <thead>\n",
       "    <tr style=\"text-align: right;\">\n",
       "      <th></th>\n",
       "      <th>0</th>\n",
       "      <th>1</th>\n",
       "      <th>message_type</th>\n",
       "      <th>time</th>\n",
       "      <th>model_origin</th>\n",
       "      <th>port</th>\n",
       "      <th>value</th>\n",
       "      <th>model_dest</th>\n",
       "    </tr>\n",
       "  </thead>\n",
       "  <tbody>\n",
       "    <tr>\n",
       "      <th>0</th>\n",
       "      <td>0</td>\n",
       "      <td>L</td>\n",
       "      <td>X</td>\n",
       "      <td>00:00:42:000</td>\n",
       "      <td>top(05)</td>\n",
       "      <td>job</td>\n",
       "      <td>2.0</td>\n",
       "      <td>server2(04)</td>\n",
       "    </tr>\n",
       "  </tbody>\n",
       "</table>\n",
       "</div>"
      ],
      "text/plain": [
       "   0  1 message_type          time model_origin port  value   model_dest\n",
       "0  0  L            X  00:00:42:000      top(05)  job    2.0  server2(04)"
      ]
     },
     "metadata": {},
     "output_type": "display_data"
    }
   ],
   "source": [
    "# Por último cuando el 0 y el 1 están apagados, cuando llega el último job en el segundo 44, se lo envía al server 2\n",
    "# que lo termina (ver logs dispatcher)\n",
    "display(results.logs_dfs['server2'])"
   ]
  },
  {
   "cell_type": "code",
   "execution_count": 44,
   "metadata": {},
   "outputs": [
    {
     "data": {
      "text/html": [
       "<div>\n",
       "<style scoped>\n",
       "    .dataframe tbody tr th:only-of-type {\n",
       "        vertical-align: middle;\n",
       "    }\n",
       "\n",
       "    .dataframe tbody tr th {\n",
       "        vertical-align: top;\n",
       "    }\n",
       "\n",
       "    .dataframe thead th {\n",
       "        text-align: right;\n",
       "    }\n",
       "</style>\n",
       "<table border=\"1\" class=\"dataframe\">\n",
       "  <thead>\n",
       "    <tr style=\"text-align: right;\">\n",
       "      <th></th>\n",
       "      <th>0</th>\n",
       "      <th>1</th>\n",
       "      <th>message_type</th>\n",
       "      <th>time</th>\n",
       "      <th>model_origin</th>\n",
       "      <th>port</th>\n",
       "      <th>value</th>\n",
       "      <th>model_dest</th>\n",
       "    </tr>\n",
       "  </thead>\n",
       "  <tbody>\n",
       "    <tr>\n",
       "      <th>0</th>\n",
       "      <td>0</td>\n",
       "      <td>L</td>\n",
       "      <td>X</td>\n",
       "      <td>00:00:20:000</td>\n",
       "      <td>top(05)</td>\n",
       "      <td>serverstatus</td>\n",
       "      <td>(2.0, 0.0)</td>\n",
       "      <td>a_dispatcher(01)</td>\n",
       "    </tr>\n",
       "    <tr>\n",
       "      <th>1</th>\n",
       "      <td>0</td>\n",
       "      <td>L</td>\n",
       "      <td>X</td>\n",
       "      <td>00:00:25:000</td>\n",
       "      <td>top(05)</td>\n",
       "      <td>newjob</td>\n",
       "      <td>1</td>\n",
       "      <td>a_dispatcher(01)</td>\n",
       "    </tr>\n",
       "    <tr>\n",
       "      <th>2</th>\n",
       "      <td>0</td>\n",
       "      <td>L</td>\n",
       "      <td>X</td>\n",
       "      <td>00:00:35:000</td>\n",
       "      <td>top(05)</td>\n",
       "      <td>serverstatus</td>\n",
       "      <td>(2.0, 1.0)</td>\n",
       "      <td>a_dispatcher(01)</td>\n",
       "    </tr>\n",
       "    <tr>\n",
       "      <th>3</th>\n",
       "      <td>0</td>\n",
       "      <td>L</td>\n",
       "      <td>X</td>\n",
       "      <td>00:00:38:000</td>\n",
       "      <td>top(05)</td>\n",
       "      <td>newjob</td>\n",
       "      <td>1</td>\n",
       "      <td>a_dispatcher(01)</td>\n",
       "    </tr>\n",
       "    <tr>\n",
       "      <th>4</th>\n",
       "      <td>0</td>\n",
       "      <td>L</td>\n",
       "      <td>X</td>\n",
       "      <td>00:00:40:000</td>\n",
       "      <td>top(05)</td>\n",
       "      <td>serverstatus</td>\n",
       "      <td>(0.0, 0.0)</td>\n",
       "      <td>a_dispatcher(01)</td>\n",
       "    </tr>\n",
       "    <tr>\n",
       "      <th>5</th>\n",
       "      <td>0</td>\n",
       "      <td>L</td>\n",
       "      <td>X</td>\n",
       "      <td>00:00:42:000</td>\n",
       "      <td>top(05)</td>\n",
       "      <td>newjob</td>\n",
       "      <td>1</td>\n",
       "      <td>a_dispatcher(01)</td>\n",
       "    </tr>\n",
       "    <tr>\n",
       "      <th>6</th>\n",
       "      <td>0</td>\n",
       "      <td>L</td>\n",
       "      <td>X</td>\n",
       "      <td>00:00:43:000</td>\n",
       "      <td>top(05)</td>\n",
       "      <td>serverstatus</td>\n",
       "      <td>(1.0, 0.0)</td>\n",
       "      <td>a_dispatcher(01)</td>\n",
       "    </tr>\n",
       "    <tr>\n",
       "      <th>7</th>\n",
       "      <td>0</td>\n",
       "      <td>L</td>\n",
       "      <td>X</td>\n",
       "      <td>00:00:44:000</td>\n",
       "      <td>top(05)</td>\n",
       "      <td>newjob</td>\n",
       "      <td>1</td>\n",
       "      <td>a_dispatcher(01)</td>\n",
       "    </tr>\n",
       "  </tbody>\n",
       "</table>\n",
       "</div>"
      ],
      "text/plain": [
       "   0  1 message_type          time model_origin          port       value  \\\n",
       "0  0  L            X  00:00:20:000      top(05)  serverstatus  (2.0, 0.0)   \n",
       "1  0  L            X  00:00:25:000      top(05)        newjob           1   \n",
       "2  0  L            X  00:00:35:000      top(05)  serverstatus  (2.0, 1.0)   \n",
       "3  0  L            X  00:00:38:000      top(05)        newjob           1   \n",
       "4  0  L            X  00:00:40:000      top(05)  serverstatus  (0.0, 0.0)   \n",
       "5  0  L            X  00:00:42:000      top(05)        newjob           1   \n",
       "6  0  L            X  00:00:43:000      top(05)  serverstatus  (1.0, 0.0)   \n",
       "7  0  L            X  00:00:44:000      top(05)        newjob           1   \n",
       "\n",
       "         model_dest  \n",
       "0  a_dispatcher(01)  \n",
       "1  a_dispatcher(01)  \n",
       "2  a_dispatcher(01)  \n",
       "3  a_dispatcher(01)  \n",
       "4  a_dispatcher(01)  \n",
       "5  a_dispatcher(01)  \n",
       "6  a_dispatcher(01)  \n",
       "7  a_dispatcher(01)  "
      ]
     },
     "metadata": {},
     "output_type": "display_data"
    }
   ],
   "source": [
    "display(results.logs_dfs['a_dispatcher'])"
   ]
  },
  {
   "cell_type": "markdown",
   "metadata": {},
   "source": [
    "\n",
    "\n",
    "\n",
    "\n",
    "\n",
    "\n",
    "\n",
    "\n"
   ]
  }
 ],
 "metadata": {
  "kernelspec": {
   "display_name": "Python 2",
   "language": "python",
   "name": "python2"
  },
  "language_info": {
   "codemirror_mode": {
    "name": "ipython",
    "version": 3
   },
   "file_extension": ".py",
   "mimetype": "text/x-python",
   "name": "python",
   "nbconvert_exporter": "python",
   "pygments_lexer": "ipython3",
   "version": "3.7.4"
  }
 },
 "nbformat": 4,
 "nbformat_minor": 4
}
