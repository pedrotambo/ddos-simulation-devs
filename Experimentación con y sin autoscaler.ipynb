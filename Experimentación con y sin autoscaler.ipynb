{
 "cells": [
  {
   "cell_type": "code",
   "execution_count": 51,
   "metadata": {},
   "outputs": [],
   "source": [
    "from pringles.simulator import Simulator\n",
    "mySimulator = Simulator(cdpp_bin_path='bin/', user_models_dir='src/')"
   ]
  },
  {
   "cell_type": "code",
   "execution_count": 116,
   "metadata": {},
   "outputs": [
    {
     "name": "stdout",
     "output_type": "stream",
     "text": [
      "<class 'pringles.models.models.Server'>\n",
      "<class 'pringles.models.models.Dispatcher'>\n",
      "<class 'pringles.models.models.ServerQueue'>\n",
      "<class 'pringles.models.models.Attacker'>\n",
      "<class 'pringles.models.models.Generator'>\n"
     ]
    }
   ],
   "source": [
    "for atomic in mySimulator.atomic_registry.discovered_atomics:\n",
    "    if atomic.__name__ == \"Server\":\n",
    "        Server = atomic\n",
    "    elif atomic.__name__ == \"AutoScaler\":\n",
    "        AutoScaler = atomic\n",
    "    elif atomic.__name__ == \"ServerQueue\":\n",
    "        ServerQueue = atomic\n",
    "    elif atomic.__name__ == \"Dispatcher\":\n",
    "        Dispatcher = atomic\n",
    "    elif atomic.__name__ == \"Attacker\":\n",
    "        Attacker = atomic\n",
    "    elif atomic.__name__ == \"Generator\":\n",
    "        Generator = atomic\n",
    "   \n",
    "print(Server)\n",
    "print(Dispatcher)\n",
    "print(ServerQueue)\n",
    "print(Attacker)\n",
    "print(Generator)\n"
   ]
  },
  {
   "cell_type": "markdown",
   "metadata": {},
   "source": [
    "# Descripción de los modelos\n",
    "El modelo contará con los atómicos de la sección anterior. A continuación la descripción de cada modelo:\n",
    "\n",
    "- Server: este es un atómico que cuenta con dos puertos de entrada, \"job\" por el cual le llegarán los IDs de los jobs a procesar, el cual con una distribución exponencial generará un número aleatorio el cual representa el tiempo que le llevará procesar ese job. Una vez que termine el ta correspondiente, enviará por el puerto \"done\" al dispatcher que realizó el trabajo. Por el puerto de entrada \"powerSignal\" recibirá las instrucciones del scaler para apagarse o prenderse, y una vez que lo realize avisará por el puerto de salida \"ready\". Nota: en caso de el server estar procesando un job en el momento que le llega una señal de apagado, esperará a terminar el job y luego se apagará. Este posee un parámetro, \"setupTime\", que representa el tiempo en que el server demora en prenderse. El apagado es instantáneo.\n",
    "\n",
    "- Generator: simplemente un generador aleatorio con distribución normal que representará el tráfico \"normal\" de la red, que estará conectado con la cola del servidor.\n",
    "\n",
    "- ServerQueue: representa la cola de mensajes del servidor. Recibe los jobs por el puerto de entrada \"in\" (que vendrán desde el generador y desde el atacante). Recibe también por el puerto de entrada \"emit\" las solicitudes del dispatcher para que le envíe un nuevo job para procesar, los cuales enviará por el puerto \"out\". Además, periódicamente la cola informará al scaler su carga actual, por el puerto de salida \"queueLoad\". Por último, en caso de que la cola este llena, y llegue un job por el puerto de entrada \"in\", la cola descartará el job, avisando por el puerto de salida \"discarded\", que estará conectado al output del sistema.\n",
    "\n",
    "- Dispatcher: este se encargará de pedirle a la cola que le envíe jobs para procesar siempre y cuando haya servidores libres para procesarlo (por el puerto lo pedirá \"requestJob\", y los recibirá por el puerto \"newJob\"), que enviará directamente a cada servidor. Además, eventualmente recibirá notificaciones del autoscaler por el puerto \"serverStatus\" sobre cambios en los servidores. El mensaje será una tupla [ServerID, Off/free], que representa el cierto servidor paso de estar apagado a prendido, o viceversa.\n",
    "\n",
    "- Scaler: este se encargará de ir recibiendo periódicamente la información de la carga de la cola, y en función de esto irá decidiendo apagar o prender servidores. Poseerá un umbral superior, a partir del cual si es superado por la carga de la cola, decidirá prender un servidor. Por el contrario, si sobrepasa el umbral inferior, apagará un servidor. También estará conectado directamente a todos los servidores para realizar estas acciones.\n",
    "\n",
    "- Attacker: este se encargará de realizar los ataques DDoS, es decir, irá enviando jobs al puerto de entrada \"in\" de la cola. Este leerá de un archivo de texto, en el cual se expresa en cada línea el tiempo que deberá esperar para enviar el siguiente job. Es decir, leerá una línea la cual representa un tiempo t, y se programará para enviar un job con un ta = t. \n",
    "\n",
    "Referencia: Los datos utilizado para recrear este archivo fueron tomado del sitio https://www.unb.ca/cic/datasets/ddos-2019.html, correspondiente al dataset del segundo día. Fueron tenidos en cuenta de los primeros 100.000 requests los enviados a la ip 10.42.0.215, identificada como víctima del ataque."
   ]
  },
  {
   "cell_type": "markdown",
   "metadata": {},
   "source": [
    "## Configuración del modelo\n",
    "El sistema contará con 10 servidores que inicialmente estarán encendidos. \n",
    "El parámetro 'mean' utilizado en los servidores fue elegido específicamente para que pueda soportar la carga del \n",
    "ataque pero no por mucho, es decir, si apagamos un servidor, se perderían jobs. Esto fue así, para que al experimentar con el auto-scaler, se vea reflejada una diferencia."
   ]
  },
  {
   "cell_type": "code",
   "execution_count": 96,
   "metadata": {},
   "outputs": [],
   "source": [
    "number_of_servers = 10\n",
    "\n",
    "\n",
    "# El dispatcher conocerá el estado inicial de cada servidor.\n",
    "dispatcherDefaultConfig = {\n",
    "    'numberOfServers': number_of_servers\n",
    "}\n",
    "for i in range(number_of_servers):\n",
    "    dispatcherDefaultConfig['server' + str(i)] = 'free'\n",
    "\n",
    "\n",
    "serverDefaultConfig = {\n",
    "    'distribution': 'exponential',\n",
    "    'mean': 0.005,\n",
    "    'setupTime': '00:00:00:10'\n",
    "}\n",
    "\n",
    "serverOnDefaultConifg = {\n",
    "    'initialStatus': 'free',\n",
    "    **serverDefaultConfig\n",
    "}\n",
    "\n",
    "serverOffDefaultConifg = {\n",
    "    'initialStatus': 'off',\n",
    "    **serverDefaultConfig\n",
    "}\n",
    "\n",
    "serverQueueDefaultConfig = {\n",
    "    'size': 1000,\n",
    "    'currentSizeFrequency': '00:00:00:10'\n",
    "}\n",
    "\n",
    "attackerDefaultConfig = {\n",
    "    'file': '../../../attack-data/ataque.txt'\n",
    "}\n",
    "\n",
    "generatorDefaultConfig = {\n",
    "    'distribution': 'normal',\n",
    "    'mean': 0.05,\n",
    "    'deviation': 0.001,\n",
    "    'initial': 0,\n",
    "    'increment': 1\n",
    "}\n",
    "\n"
   ]
  },
  {
   "cell_type": "code",
   "execution_count": 97,
   "metadata": {},
   "outputs": [],
   "source": [
    "from pringles.models.errors import PortNotFoundException\n",
    "\n",
    "dispatcher = Dispatcher('dispatcher', **dispatcherDefaultConfig)\n",
    "queue = ServerQueue('queue', **serverQueueDefaultConfig)\n",
    "# creamos dinámicamente los servers y puertos correspondientes en el scaler y dispatcher\n",
    "servers = {}\n",
    "for i in range(number_of_servers):\n",
    "    server_name = 'server' + str(i)\n",
    "    servers[i] = Server(server_name, **serverOnDefaultConifg)\n",
    "    try:\n",
    "        dispatcher.get_port(server_name)\n",
    "        scaler.get_port(server_name)\n",
    "    except PortNotFoundException:\n",
    "        dispatcher.add_outport(server_name)\n",
    "        scaler.add_outport(server_name)\n",
    "\n",
    "attacker = Attacker('attacker', **attackerDefaultConfig)\n",
    "generator = Generator('generator', **generatorDefaultConfig)"
   ]
  },
  {
   "cell_type": "code",
   "execution_count": 98,
   "metadata": {},
   "outputs": [
    {
     "name": "stdout",
     "output_type": "stream",
     "text": [
      "--Dispatcher ports\n",
      "Inport names:  ['newJob', 'jobDone', 'serverStatus']\n",
      "Outport names:  ['requestJob', 'server0', 'server1', 'server2', 'server3', 'server4', 'server5', 'server6', 'server7', 'server8', 'server9']\n",
      "--Server ports--\n",
      "Inport names:  ['job', 'powerSignal']\n",
      "Outport names:  ['done', 'ready']\n",
      "--ServerQueue ports--\n",
      "Inport names:  ['in', 'emit']\n",
      "Outport names:  ['out', 'discarded', 'queueLoad']\n",
      "--Attacker ports--\n",
      "Inport names:  []\n",
      "Outport names:  ['attack']\n",
      "--Generator ports--\n",
      "Inport names:  ['stop']\n",
      "Outport names:  ['out']\n"
     ]
    }
   ],
   "source": [
    "print(\"--Dispatcher ports\")\n",
    "print(\"Inport names: \", [port.name for port in dispatcher.inports])\n",
    "print(\"Outport names: \", [port.name for port in dispatcher.outports])\n",
    "\n",
    "print(\"--Server ports--\")\n",
    "print(\"Inport names: \", [port.name for port in servers[0].inports])\n",
    "print(\"Outport names: \", [port.name for port in servers[0].outports])\n",
    "\n",
    "print(\"--ServerQueue ports--\")\n",
    "print(\"Inport names: \", [port.name for port in queue.inports])\n",
    "print(\"Outport names: \", [port.name for port in queue.outports])\n",
    "\n",
    "print(\"--Attacker ports--\")\n",
    "print(\"Inport names: \", [port.name for port in attacker.inports])\n",
    "print(\"Outport names: \", [port.name for port in attacker.outports])\n",
    "\n",
    "\n",
    "print(\"--Generator ports--\")\n",
    "print(\"Inport names: \", [port.name for port in generator.inports])\n",
    "print(\"Outport names: \", [port.name for port in generator.outports])"
   ]
  },
  {
   "cell_type": "code",
   "execution_count": 99,
   "metadata": {},
   "outputs": [
    {
     "name": "stdout",
     "output_type": "stream",
     "text": [
      "Top model created\n"
     ]
    },
    {
     "data": {
      "text/html": [
       "<div id=\"7cea04829b7f41888d4d1cb6196b2387\" class=\"devs_diagrammer_wrapper\">\n",
       "\n",
       "  <link rel=\"stylesheet\" href=\"http://localhost:62229/_static/css/style.css\" />\n",
       "\n",
       "  <script src=\"http://localhost:62229/_static/vendors/js/createjs/createjs-2013.12.12.min.js\"></script>\n",
       "  <script src=\"http://localhost:62229/_static/vendors/js/jquery-3.2.1/jquery-3.2.1.min.js\"></script>\n",
       "  <script src=\"http://localhost:62229/_static/js/ColorCodes.js\"></script>\n",
       "  <script src=\"http://localhost:62229/_static/js/main.js\"></script>\n",
       "  <script src=\"http://localhost:62229/_static/js/manifest.js\"></script>\n",
       "  <script src=\"http://localhost:62229/_static/js/toposort.js\"></script>\n",
       "  <script src=\"http://localhost:62229/_static/js/Square.js\"></script>\n",
       "  <script src=\"http://localhost:62229/_static/js/Port.js\"></script>\n",
       "  <script src=\"http://localhost:62229/_static/js/Link.js\"></script>\n",
       "  <script src=\"http://localhost:62229/_static/js/JSONModelGraphics.js\"></script>\n",
       "  <script src=\"http://localhost:62229/_static/js/Model.js\"></script>\n",
       "  <script src=\"http://localhost:62229/_static/js/Canvas.js\"></script>\n",
       " \n",
       "  <script type=\"text/javascript\">\n",
       "    $(document).ready(function () {\n",
       "      console.info(\"About to start drawing model\");\n",
       "      menu_init();\n",
       "      addCanvasFromJson('{\"id\": \"top\", \"type\": \"coupled\", \"models\": [{\"id\": \"dispatcher\", \"type\": \"atomic\", \"ports\": {\"out\": [{\"name\": \"requestJob\", \"message_type\": \"Any\", \"kind\": \"out\"}, {\"name\": \"server0\", \"message_type\": \"Any\", \"kind\": \"out\"}, {\"name\": \"server1\", \"message_type\": \"Any\", \"kind\": \"out\"}, {\"name\": \"server2\", \"message_type\": \"Any\", \"kind\": \"out\"}, {\"name\": \"server3\", \"message_type\": \"Any\", \"kind\": \"out\"}, {\"name\": \"server4\", \"message_type\": \"Any\", \"kind\": \"out\"}, {\"name\": \"server5\", \"message_type\": \"Any\", \"kind\": \"out\"}, {\"name\": \"server6\", \"message_type\": \"Any\", \"kind\": \"out\"}, {\"name\": \"server7\", \"message_type\": \"Any\", \"kind\": \"out\"}, {\"name\": \"server8\", \"message_type\": \"Any\", \"kind\": \"out\"}, {\"name\": \"server9\", \"message_type\": \"Any\", \"kind\": \"out\"}], \"in\": [{\"name\": \"newJob\", \"message_type\": \"Any\", \"kind\": \"in\"}, {\"name\": \"jobDone\", \"message_type\": \"Any\", \"kind\": \"in\"}, {\"name\": \"serverStatus\", \"message_type\": \"Any\", \"kind\": \"in\"}]}}, {\"id\": \"queue\", \"type\": \"atomic\", \"ports\": {\"out\": [{\"name\": \"out\", \"message_type\": \"Any\", \"kind\": \"out\"}, {\"name\": \"discarded\", \"message_type\": \"Any\", \"kind\": \"out\"}, {\"name\": \"queueLoad\", \"message_type\": \"Any\", \"kind\": \"out\"}], \"in\": [{\"name\": \"in\", \"message_type\": \"Any\", \"kind\": \"in\"}, {\"name\": \"emit\", \"message_type\": \"Any\", \"kind\": \"in\"}]}}, {\"id\": \"attacker\", \"type\": \"atomic\", \"ports\": {\"out\": [{\"name\": \"attack\", \"message_type\": \"Any\", \"kind\": \"out\"}], \"in\": []}}, {\"id\": \"generator\", \"type\": \"atomic\", \"ports\": {\"out\": [{\"name\": \"out\", \"message_type\": \"Any\", \"kind\": \"out\"}], \"in\": [{\"name\": \"stop\", \"message_type\": \"Any\", \"kind\": \"in\"}]}}, {\"id\": \"server0\", \"type\": \"atomic\", \"ports\": {\"out\": [{\"name\": \"done\", \"message_type\": \"Any\", \"kind\": \"out\"}, {\"name\": \"ready\", \"message_type\": \"Any\", \"kind\": \"out\"}], \"in\": [{\"name\": \"job\", \"message_type\": \"Any\", \"kind\": \"in\"}, {\"name\": \"powerSignal\", \"message_type\": \"Any\", \"kind\": \"in\"}]}}, {\"id\": \"server1\", \"type\": \"atomic\", \"ports\": {\"out\": [{\"name\": \"done\", \"message_type\": \"Any\", \"kind\": \"out\"}, {\"name\": \"ready\", \"message_type\": \"Any\", \"kind\": \"out\"}], \"in\": [{\"name\": \"job\", \"message_type\": \"Any\", \"kind\": \"in\"}, {\"name\": \"powerSignal\", \"message_type\": \"Any\", \"kind\": \"in\"}]}}, {\"id\": \"server2\", \"type\": \"atomic\", \"ports\": {\"out\": [{\"name\": \"done\", \"message_type\": \"Any\", \"kind\": \"out\"}, {\"name\": \"ready\", \"message_type\": \"Any\", \"kind\": \"out\"}], \"in\": [{\"name\": \"job\", \"message_type\": \"Any\", \"kind\": \"in\"}, {\"name\": \"powerSignal\", \"message_type\": \"Any\", \"kind\": \"in\"}]}}, {\"id\": \"server3\", \"type\": \"atomic\", \"ports\": {\"out\": [{\"name\": \"done\", \"message_type\": \"Any\", \"kind\": \"out\"}, {\"name\": \"ready\", \"message_type\": \"Any\", \"kind\": \"out\"}], \"in\": [{\"name\": \"job\", \"message_type\": \"Any\", \"kind\": \"in\"}, {\"name\": \"powerSignal\", \"message_type\": \"Any\", \"kind\": \"in\"}]}}, {\"id\": \"server4\", \"type\": \"atomic\", \"ports\": {\"out\": [{\"name\": \"done\", \"message_type\": \"Any\", \"kind\": \"out\"}, {\"name\": \"ready\", \"message_type\": \"Any\", \"kind\": \"out\"}], \"in\": [{\"name\": \"job\", \"message_type\": \"Any\", \"kind\": \"in\"}, {\"name\": \"powerSignal\", \"message_type\": \"Any\", \"kind\": \"in\"}]}}, {\"id\": \"server5\", \"type\": \"atomic\", \"ports\": {\"out\": [{\"name\": \"done\", \"message_type\": \"Any\", \"kind\": \"out\"}, {\"name\": \"ready\", \"message_type\": \"Any\", \"kind\": \"out\"}], \"in\": [{\"name\": \"job\", \"message_type\": \"Any\", \"kind\": \"in\"}, {\"name\": \"powerSignal\", \"message_type\": \"Any\", \"kind\": \"in\"}]}}, {\"id\": \"server6\", \"type\": \"atomic\", \"ports\": {\"out\": [{\"name\": \"done\", \"message_type\": \"Any\", \"kind\": \"out\"}, {\"name\": \"ready\", \"message_type\": \"Any\", \"kind\": \"out\"}], \"in\": [{\"name\": \"job\", \"message_type\": \"Any\", \"kind\": \"in\"}, {\"name\": \"powerSignal\", \"message_type\": \"Any\", \"kind\": \"in\"}]}}, {\"id\": \"server7\", \"type\": \"atomic\", \"ports\": {\"out\": [{\"name\": \"done\", \"message_type\": \"Any\", \"kind\": \"out\"}, {\"name\": \"ready\", \"message_type\": \"Any\", \"kind\": \"out\"}], \"in\": [{\"name\": \"job\", \"message_type\": \"Any\", \"kind\": \"in\"}, {\"name\": \"powerSignal\", \"message_type\": \"Any\", \"kind\": \"in\"}]}}, {\"id\": \"server8\", \"type\": \"atomic\", \"ports\": {\"out\": [{\"name\": \"done\", \"message_type\": \"Any\", \"kind\": \"out\"}, {\"name\": \"ready\", \"message_type\": \"Any\", \"kind\": \"out\"}], \"in\": [{\"name\": \"job\", \"message_type\": \"Any\", \"kind\": \"in\"}, {\"name\": \"powerSignal\", \"message_type\": \"Any\", \"kind\": \"in\"}]}}, {\"id\": \"server9\", \"type\": \"atomic\", \"ports\": {\"out\": [{\"name\": \"done\", \"message_type\": \"Any\", \"kind\": \"out\"}, {\"name\": \"ready\", \"message_type\": \"Any\", \"kind\": \"out\"}], \"in\": [{\"name\": \"job\", \"message_type\": \"Any\", \"kind\": \"in\"}, {\"name\": \"powerSignal\", \"message_type\": \"Any\", \"kind\": \"in\"}]}}], \"ports\": {\"out\": [{\"name\": \"queueLoad\", \"message_type\": \"Any\", \"kind\": \"out\"}, {\"name\": \"discarded\", \"message_type\": \"Any\", \"kind\": \"out\"}, {\"name\": \"jobDone\", \"message_type\": \"Any\", \"kind\": \"out\"}], \"in\": []}, \"eoc\": [{\"to_port\": \"discarded\", \"from_port\": \"discarded\", \"from_model\": \"queue\"}, {\"to_port\": \"queueLoad\", \"from_port\": \"queueLoad\", \"from_model\": \"queue\"}, {\"to_port\": \"jobDone\", \"from_port\": \"done\", \"from_model\": \"server0\"}, {\"to_port\": \"jobDone\", \"from_port\": \"done\", \"from_model\": \"server1\"}, {\"to_port\": \"jobDone\", \"from_port\": \"done\", \"from_model\": \"server2\"}, {\"to_port\": \"jobDone\", \"from_port\": \"done\", \"from_model\": \"server3\"}, {\"to_port\": \"jobDone\", \"from_port\": \"done\", \"from_model\": \"server4\"}, {\"to_port\": \"jobDone\", \"from_port\": \"done\", \"from_model\": \"server5\"}, {\"to_port\": \"jobDone\", \"from_port\": \"done\", \"from_model\": \"server6\"}, {\"to_port\": \"jobDone\", \"from_port\": \"done\", \"from_model\": \"server7\"}, {\"to_port\": \"jobDone\", \"from_port\": \"done\", \"from_model\": \"server8\"}, {\"to_port\": \"jobDone\", \"from_port\": \"done\", \"from_model\": \"server9\"}], \"eic\": [], \"ic\": [{\"to_port\": \"newJob\", \"to_model\": \"dispatcher\", \"from_port\": \"out\", \"from_model\": \"queue\"}, {\"to_port\": \"emit\", \"to_model\": \"queue\", \"from_port\": \"requestJob\", \"from_model\": \"dispatcher\"}, {\"to_port\": \"in\", \"to_model\": \"queue\", \"from_port\": \"attack\", \"from_model\": \"attacker\"}, {\"to_port\": \"job\", \"to_model\": \"server0\", \"from_port\": \"server0\", \"from_model\": \"dispatcher\"}, {\"to_port\": \"jobDone\", \"to_model\": \"dispatcher\", \"from_port\": \"done\", \"from_model\": \"server0\"}, {\"to_port\": \"job\", \"to_model\": \"server1\", \"from_port\": \"server1\", \"from_model\": \"dispatcher\"}, {\"to_port\": \"jobDone\", \"to_model\": \"dispatcher\", \"from_port\": \"done\", \"from_model\": \"server1\"}, {\"to_port\": \"job\", \"to_model\": \"server2\", \"from_port\": \"server2\", \"from_model\": \"dispatcher\"}, {\"to_port\": \"jobDone\", \"to_model\": \"dispatcher\", \"from_port\": \"done\", \"from_model\": \"server2\"}, {\"to_port\": \"job\", \"to_model\": \"server3\", \"from_port\": \"server3\", \"from_model\": \"dispatcher\"}, {\"to_port\": \"jobDone\", \"to_model\": \"dispatcher\", \"from_port\": \"done\", \"from_model\": \"server3\"}, {\"to_port\": \"job\", \"to_model\": \"server4\", \"from_port\": \"server4\", \"from_model\": \"dispatcher\"}, {\"to_port\": \"jobDone\", \"to_model\": \"dispatcher\", \"from_port\": \"done\", \"from_model\": \"server4\"}, {\"to_port\": \"job\", \"to_model\": \"server5\", \"from_port\": \"server5\", \"from_model\": \"dispatcher\"}, {\"to_port\": \"jobDone\", \"to_model\": \"dispatcher\", \"from_port\": \"done\", \"from_model\": \"server5\"}, {\"to_port\": \"job\", \"to_model\": \"server6\", \"from_port\": \"server6\", \"from_model\": \"dispatcher\"}, {\"to_port\": \"jobDone\", \"to_model\": \"dispatcher\", \"from_port\": \"done\", \"from_model\": \"server6\"}, {\"to_port\": \"job\", \"to_model\": \"server7\", \"from_port\": \"server7\", \"from_model\": \"dispatcher\"}, {\"to_port\": \"jobDone\", \"to_model\": \"dispatcher\", \"from_port\": \"done\", \"from_model\": \"server7\"}, {\"to_port\": \"job\", \"to_model\": \"server8\", \"from_port\": \"server8\", \"from_model\": \"dispatcher\"}, {\"to_port\": \"jobDone\", \"to_model\": \"dispatcher\", \"from_port\": \"done\", \"from_model\": \"server8\"}, {\"to_port\": \"job\", \"to_model\": \"server9\", \"from_port\": \"server9\", \"from_model\": \"dispatcher\"}, {\"to_port\": \"jobDone\", \"to_model\": \"dispatcher\", \"from_port\": \"done\", \"from_model\": \"server9\"}, {\"to_port\": \"in\", \"to_model\": \"queue\", \"from_port\": \"out\", \"from_model\": \"generator\"}]}', '7cea04829b7f41888d4d1cb6196b2387');\n",
       "    });\n",
       "  </script>\n",
       "\n",
       "  <!-- hiden button for export JSON -->\n",
       "  <a id=\"download\" style=\"display:none\"></a>\n",
       "  <!-- hiden button for export JSON -->\n",
       "  <div id=\"devs_diagrammer\">\n",
       "    <div id='body-wrapper'>\n",
       "      <div id=\"models-wrapper\"></div>\n",
       "      <div id=\"menu-wrapper\">\n",
       "        <button id=\"expand_in_new_canvas_selected\" class=\"action bp3-button bp3-minimal\" type=\"button\">Expand in new canvas</button>\n",
       "        <button class=\"action bp3-button bp3-minimal\" type=\"button\" onclick=\"remove_selected_top_models();\">Remove model</button>\n",
       "        <button class=\"action bp3-button bp3-minimal\" type=\"button\" onclick=\"toggle_models_selected();\">Expand / Contract</button>\n",
       "        <button class=\"action bp3-button bp3-minimal\" type=\"button\" onclick=\"toggle_links_selected();\">Show / Hide all links</button>\n",
       "        <button class=\"action bp3-button bp3-minimal\" type=\"button\" onclick=\"show_submodel_links_selected();\">Show / Hide model links</button>\n",
       "        <button class=\"action bp3-button bp3-minimal\" type=\"button\" onclick=\"toggle_port_name_selected();\">Show / Hide port names</button>\n",
       "      </div>\n",
       "    </div>\n",
       "  </div>\n",
       "</div>"
      ],
      "text/plain": [
       "<pringles.models.models.Coupled at 0x114096950>"
      ]
     },
     "execution_count": 99,
     "metadata": {},
     "output_type": "execute_result"
    }
   ],
   "source": [
    "from pringles.models import Coupled\n",
    "\n",
    "subcomponents = [dispatcher, queue, attacker, generator]\n",
    "for i in range(number_of_servers):\n",
    "    subcomponents.append(servers[i])\n",
    "    \n",
    "    \n",
    "top_model = Coupled(name='top', subcomponents=subcomponents)\n",
    "\n",
    "# adding top inports\n",
    "top_model.add_outport(\"queueLoad\")\n",
    "top_model.add_outport('discarded')\n",
    "top_model.add_outport('jobDone')\n",
    "\n",
    "# adding couplings between queue and dispatcher\n",
    "top_model.add_coupling(queue.get_port(\"out\"), dispatcher.get_port(\"newJob\"))\n",
    "top_model.add_coupling(dispatcher.get_port(\"requestJob\"), queue.get_port(\"emit\"))\n",
    "\n",
    "# adding coupling between attacker and queue\n",
    "top_model.add_coupling(attacker.get_port('attack'), queue.get_port('in'))\n",
    "                                                                   \n",
    "\n",
    "# adding coupling between queue discarded port and top\n",
    "top_model.add_coupling(queue.get_port('discarded'), 'discarded')\n",
    "\n",
    "# adding coupling between queue queueLoad and scaler\n",
    "top_model.add_coupling(queue.get_port('queueLoad'), 'queueLoad')\n",
    "\n",
    "\n",
    "# adding couplings between dispatcher, scaler and servers\n",
    "for i in range(number_of_servers):\n",
    "    server_name = 'server' + str(i)\n",
    "    # dispatcher/servers couplings\n",
    "    top_model.add_coupling(dispatcher.get_port(server_name), servers[i].get_port('job'))\n",
    "    top_model.add_coupling(servers[i].get_port('done'), dispatcher.get_port('jobDone'))\n",
    "    \n",
    "    # top/servers couplings\n",
    "    top_model.add_coupling(servers[i].get_port('done'), 'jobDone')\n",
    "    \n",
    "\n",
    "# adding coupling between generator and queue\n",
    "top_model.add_coupling(generator.get_port('out'), queue.get_port('in'))\n",
    "\n",
    "\n",
    "print(\"Top model created\")\n",
    "top_model"
   ]
  },
  {
   "cell_type": "markdown",
   "metadata": {},
   "source": [
    "# Simulación\n",
    "A continuación crearemos la simulación con la herramienta pringles. Pero la misma no será ejecutada desde jupyter-notebook, dado que el ser esta una simulación que incurre en un tiempo importante, podrá ocasionar problemas con el ambiente de jupyter. Por el contrario, crearemos con pringles el archivo \".ma\"."
   ]
  },
  {
   "cell_type": "code",
   "execution_count": 100,
   "metadata": {},
   "outputs": [
    {
     "name": "stdout",
     "output_type": "stream",
     "text": [
      "sim_results/experimento-sin-scaler/2019-10-16-005129-7e17fcffed9741898fcf1f4232cd4433/top_model\n"
     ]
    }
   ],
   "source": [
    "from pringles.simulator import Simulation, Event\n",
    "from pringles.utils import VirtualTime\n",
    "\n",
    "sim_evers = []\n",
    "\n",
    "\n",
    "a_simulation = Simulation(top_model = top_model, \n",
    "                          duration = VirtualTime.of_minutes(10),\n",
    "                          working_dir='sim_results/experimento-sin-scaler'\n",
    "                         )\n",
    "\n",
    "dumped_top_model_path = mySimulator.dump_model_in_file(a_simulation.top_model, a_simulation.output_dir)\n",
    "\n",
    "# results = mySimulator.run_simulation(a_simulation)\n",
    "\n",
    "print(dumped_top_model_path)\n",
    "\n",
    "output_path = dumped_top_model_path[:-9] + 'output'"
   ]
  },
  {
   "cell_type": "markdown",
   "metadata": {},
   "source": [
    "\n",
    "Por favor dirigirse al directorio de la simulación creada en 'dumped_top_model_path' y ejecutar la línea de comandos:\n",
    "```\n",
    "../../../bin/cd++ -m top_model -l logs/ -t 00:00:10:00 -o output\n",
    "```\n"
   ]
  },
  {
   "cell_type": "markdown",
   "metadata": {},
   "source": [
    "Una vez finalizada la simulación veamos la cantidad de paquetes realizados y descartados."
   ]
  },
  {
   "cell_type": "code",
   "execution_count": 101,
   "metadata": {},
   "outputs": [
    {
     "name": "stdout",
     "output_type": "stream",
     "text": [
      "0\r\n"
     ]
    }
   ],
   "source": [
    "! cat $output_path | grep -c discarded"
   ]
  },
  {
   "cell_type": "code",
   "execution_count": 102,
   "metadata": {},
   "outputs": [
    {
     "name": "stdout",
     "output_type": "stream",
     "text": [
      "9901\r\n"
     ]
    }
   ],
   "source": [
    "! cat $output_path | grep -c jobdone"
   ]
  },
  {
   "cell_type": "markdown",
   "metadata": {},
   "source": [
    "Observermos que no fueron descartados paquetes. Es decir, el stack de 10 servidores todo el tiempo encendidos pudieron soportar la carga del ataque."
   ]
  },
  {
   "cell_type": "markdown",
   "metadata": {},
   "source": [
    "## Experimentación con el auto-scaler\n",
    "\n",
    "Agregaremos ahora a la experimentación el auto-scaler. Agregamos la configuración del auto-scaler pero como los demás componentes quedan con la misma configuración, los volvemos a crear con la misma configuración sin agregarla de nuevo"
   ]
  },
  {
   "cell_type": "code",
   "execution_count": 103,
   "metadata": {},
   "outputs": [],
   "source": [
    "autoScalerDefaultConfig = {\n",
    "    'numberOfServers': number_of_servers,\n",
    "    'exponentialWeight' : 0.6,\n",
    "    'loadLowerBound': 0.3,\n",
    "    'loadUpperBound': 0.8,\n",
    "    'loadUpdatesToBreakIdle': 10\n",
    "}\n",
    "\n",
    "for i in range(number_of_servers):\n",
    "    autoScalerDefaultConfig['server' + str(i)] = 'free'\n",
    "\n",
    "\n",
    "scaler = AutoScaler('autoscaler', **autoScalerDefaultConfig)"
   ]
  },
  {
   "cell_type": "code",
   "execution_count": 104,
   "metadata": {},
   "outputs": [],
   "source": [
    "from pringles.models.errors import PortNotFoundException\n",
    "\n",
    "dispatcher = Dispatcher('dispatcher', **dispatcherDefaultConfig)\n",
    "queue = ServerQueue('queue', **serverQueueDefaultConfig)\n",
    "# creamos dinámicamente los servers y puertos correspondientes en el scaler y dispatcher\n",
    "servers = {}\n",
    "for i in range(number_of_servers):\n",
    "    server_name = 'server' + str(i)\n",
    "    servers[i] = Server(server_name, **serverOnDefaultConifg)\n",
    "    try:\n",
    "        dispatcher.get_port(server_name)\n",
    "        scaler.get_port(server_name)\n",
    "    except PortNotFoundException:\n",
    "        dispatcher.add_outport(server_name)\n",
    "        scaler.add_outport(server_name)\n",
    "\n",
    "attacker = Attacker('attacker', **attackerDefaultConfig)\n",
    "generator = Generator('generator', **generatorDefaultConfig)"
   ]
  },
  {
   "cell_type": "code",
   "execution_count": 105,
   "metadata": {},
   "outputs": [
    {
     "name": "stdout",
     "output_type": "stream",
     "text": [
      "--Scaler ports--\n",
      "Inport names:  ['queueLoad', 'serverResponse']\n",
      "Outport names:  ['serverStatus', 'loadAvg', 'server0', 'server1', 'server2', 'server3', 'server4', 'server5', 'server6', 'server7', 'server8', 'server9']\n"
     ]
    }
   ],
   "source": [
    "print(\"--Scaler ports--\")\n",
    "print(\"Inport names: \", [port.name for port in scaler.inports])\n",
    "print(\"Outport names: \", [port.name for port in scaler.outports])"
   ]
  },
  {
   "cell_type": "code",
   "execution_count": 108,
   "metadata": {},
   "outputs": [
    {
     "name": "stdout",
     "output_type": "stream",
     "text": [
      "Top model created\n"
     ]
    },
    {
     "data": {
      "text/html": [
       "<div id=\"b1fb306e7c3a428f9ed6c5f7c341a790\" class=\"devs_diagrammer_wrapper\">\n",
       "\n",
       "  <link rel=\"stylesheet\" href=\"http://localhost:62229/_static/css/style.css\" />\n",
       "\n",
       "  <script src=\"http://localhost:62229/_static/vendors/js/createjs/createjs-2013.12.12.min.js\"></script>\n",
       "  <script src=\"http://localhost:62229/_static/vendors/js/jquery-3.2.1/jquery-3.2.1.min.js\"></script>\n",
       "  <script src=\"http://localhost:62229/_static/js/ColorCodes.js\"></script>\n",
       "  <script src=\"http://localhost:62229/_static/js/main.js\"></script>\n",
       "  <script src=\"http://localhost:62229/_static/js/manifest.js\"></script>\n",
       "  <script src=\"http://localhost:62229/_static/js/toposort.js\"></script>\n",
       "  <script src=\"http://localhost:62229/_static/js/Square.js\"></script>\n",
       "  <script src=\"http://localhost:62229/_static/js/Port.js\"></script>\n",
       "  <script src=\"http://localhost:62229/_static/js/Link.js\"></script>\n",
       "  <script src=\"http://localhost:62229/_static/js/JSONModelGraphics.js\"></script>\n",
       "  <script src=\"http://localhost:62229/_static/js/Model.js\"></script>\n",
       "  <script src=\"http://localhost:62229/_static/js/Canvas.js\"></script>\n",
       " \n",
       "  <script type=\"text/javascript\">\n",
       "    $(document).ready(function () {\n",
       "      console.info(\"About to start drawing model\");\n",
       "      menu_init();\n",
       "      addCanvasFromJson('{\"id\": \"top\", \"type\": \"coupled\", \"models\": [{\"id\": \"dispatcher\", \"type\": \"atomic\", \"ports\": {\"out\": [{\"name\": \"requestJob\", \"message_type\": \"Any\", \"kind\": \"out\"}, {\"name\": \"server0\", \"message_type\": \"Any\", \"kind\": \"out\"}, {\"name\": \"server1\", \"message_type\": \"Any\", \"kind\": \"out\"}, {\"name\": \"server2\", \"message_type\": \"Any\", \"kind\": \"out\"}, {\"name\": \"server1\", \"message_type\": \"Any\", \"kind\": \"out\"}, {\"name\": \"server2\", \"message_type\": \"Any\", \"kind\": \"out\"}, {\"name\": \"server3\", \"message_type\": \"Any\", \"kind\": \"out\"}, {\"name\": \"server4\", \"message_type\": \"Any\", \"kind\": \"out\"}, {\"name\": \"server5\", \"message_type\": \"Any\", \"kind\": \"out\"}, {\"name\": \"server6\", \"message_type\": \"Any\", \"kind\": \"out\"}, {\"name\": \"server7\", \"message_type\": \"Any\", \"kind\": \"out\"}, {\"name\": \"server8\", \"message_type\": \"Any\", \"kind\": \"out\"}, {\"name\": \"server9\", \"message_type\": \"Any\", \"kind\": \"out\"}], \"in\": [{\"name\": \"newJob\", \"message_type\": \"Any\", \"kind\": \"in\"}, {\"name\": \"jobDone\", \"message_type\": \"Any\", \"kind\": \"in\"}, {\"name\": \"serverStatus\", \"message_type\": \"Any\", \"kind\": \"in\"}]}}, {\"id\": \"queue\", \"type\": \"atomic\", \"ports\": {\"out\": [{\"name\": \"out\", \"message_type\": \"Any\", \"kind\": \"out\"}, {\"name\": \"discarded\", \"message_type\": \"Any\", \"kind\": \"out\"}, {\"name\": \"queueLoad\", \"message_type\": \"Any\", \"kind\": \"out\"}], \"in\": [{\"name\": \"in\", \"message_type\": \"Any\", \"kind\": \"in\"}, {\"name\": \"emit\", \"message_type\": \"Any\", \"kind\": \"in\"}]}}, {\"id\": \"attacker\", \"type\": \"atomic\", \"ports\": {\"out\": [{\"name\": \"attack\", \"message_type\": \"Any\", \"kind\": \"out\"}], \"in\": []}}, {\"id\": \"generator\", \"type\": \"atomic\", \"ports\": {\"out\": [{\"name\": \"out\", \"message_type\": \"Any\", \"kind\": \"out\"}], \"in\": [{\"name\": \"stop\", \"message_type\": \"Any\", \"kind\": \"in\"}]}}, {\"id\": \"autoscaler\", \"type\": \"atomic\", \"ports\": {\"out\": [{\"name\": \"serverStatus\", \"message_type\": \"Any\", \"kind\": \"out\"}, {\"name\": \"loadAvg\", \"message_type\": \"Any\", \"kind\": \"out\"}, {\"name\": \"server0\", \"message_type\": \"Any\", \"kind\": \"out\"}, {\"name\": \"server1\", \"message_type\": \"Any\", \"kind\": \"out\"}, {\"name\": \"server2\", \"message_type\": \"Any\", \"kind\": \"out\"}, {\"name\": \"server3\", \"message_type\": \"Any\", \"kind\": \"out\"}, {\"name\": \"server4\", \"message_type\": \"Any\", \"kind\": \"out\"}, {\"name\": \"server5\", \"message_type\": \"Any\", \"kind\": \"out\"}, {\"name\": \"server6\", \"message_type\": \"Any\", \"kind\": \"out\"}, {\"name\": \"server7\", \"message_type\": \"Any\", \"kind\": \"out\"}, {\"name\": \"server8\", \"message_type\": \"Any\", \"kind\": \"out\"}, {\"name\": \"server9\", \"message_type\": \"Any\", \"kind\": \"out\"}], \"in\": [{\"name\": \"queueLoad\", \"message_type\": \"Any\", \"kind\": \"in\"}, {\"name\": \"serverResponse\", \"message_type\": \"Any\", \"kind\": \"in\"}]}}, {\"id\": \"server0\", \"type\": \"atomic\", \"ports\": {\"out\": [{\"name\": \"done\", \"message_type\": \"Any\", \"kind\": \"out\"}, {\"name\": \"ready\", \"message_type\": \"Any\", \"kind\": \"out\"}], \"in\": [{\"name\": \"job\", \"message_type\": \"Any\", \"kind\": \"in\"}, {\"name\": \"powerSignal\", \"message_type\": \"Any\", \"kind\": \"in\"}]}}, {\"id\": \"server1\", \"type\": \"atomic\", \"ports\": {\"out\": [{\"name\": \"done\", \"message_type\": \"Any\", \"kind\": \"out\"}, {\"name\": \"ready\", \"message_type\": \"Any\", \"kind\": \"out\"}], \"in\": [{\"name\": \"job\", \"message_type\": \"Any\", \"kind\": \"in\"}, {\"name\": \"powerSignal\", \"message_type\": \"Any\", \"kind\": \"in\"}]}}, {\"id\": \"server2\", \"type\": \"atomic\", \"ports\": {\"out\": [{\"name\": \"done\", \"message_type\": \"Any\", \"kind\": \"out\"}, {\"name\": \"ready\", \"message_type\": \"Any\", \"kind\": \"out\"}], \"in\": [{\"name\": \"job\", \"message_type\": \"Any\", \"kind\": \"in\"}, {\"name\": \"powerSignal\", \"message_type\": \"Any\", \"kind\": \"in\"}]}}, {\"id\": \"server3\", \"type\": \"atomic\", \"ports\": {\"out\": [{\"name\": \"done\", \"message_type\": \"Any\", \"kind\": \"out\"}, {\"name\": \"ready\", \"message_type\": \"Any\", \"kind\": \"out\"}], \"in\": [{\"name\": \"job\", \"message_type\": \"Any\", \"kind\": \"in\"}, {\"name\": \"powerSignal\", \"message_type\": \"Any\", \"kind\": \"in\"}]}}, {\"id\": \"server4\", \"type\": \"atomic\", \"ports\": {\"out\": [{\"name\": \"done\", \"message_type\": \"Any\", \"kind\": \"out\"}, {\"name\": \"ready\", \"message_type\": \"Any\", \"kind\": \"out\"}], \"in\": [{\"name\": \"job\", \"message_type\": \"Any\", \"kind\": \"in\"}, {\"name\": \"powerSignal\", \"message_type\": \"Any\", \"kind\": \"in\"}]}}, {\"id\": \"server5\", \"type\": \"atomic\", \"ports\": {\"out\": [{\"name\": \"done\", \"message_type\": \"Any\", \"kind\": \"out\"}, {\"name\": \"ready\", \"message_type\": \"Any\", \"kind\": \"out\"}], \"in\": [{\"name\": \"job\", \"message_type\": \"Any\", \"kind\": \"in\"}, {\"name\": \"powerSignal\", \"message_type\": \"Any\", \"kind\": \"in\"}]}}, {\"id\": \"server6\", \"type\": \"atomic\", \"ports\": {\"out\": [{\"name\": \"done\", \"message_type\": \"Any\", \"kind\": \"out\"}, {\"name\": \"ready\", \"message_type\": \"Any\", \"kind\": \"out\"}], \"in\": [{\"name\": \"job\", \"message_type\": \"Any\", \"kind\": \"in\"}, {\"name\": \"powerSignal\", \"message_type\": \"Any\", \"kind\": \"in\"}]}}, {\"id\": \"server7\", \"type\": \"atomic\", \"ports\": {\"out\": [{\"name\": \"done\", \"message_type\": \"Any\", \"kind\": \"out\"}, {\"name\": \"ready\", \"message_type\": \"Any\", \"kind\": \"out\"}], \"in\": [{\"name\": \"job\", \"message_type\": \"Any\", \"kind\": \"in\"}, {\"name\": \"powerSignal\", \"message_type\": \"Any\", \"kind\": \"in\"}]}}, {\"id\": \"server8\", \"type\": \"atomic\", \"ports\": {\"out\": [{\"name\": \"done\", \"message_type\": \"Any\", \"kind\": \"out\"}, {\"name\": \"ready\", \"message_type\": \"Any\", \"kind\": \"out\"}], \"in\": [{\"name\": \"job\", \"message_type\": \"Any\", \"kind\": \"in\"}, {\"name\": \"powerSignal\", \"message_type\": \"Any\", \"kind\": \"in\"}]}}, {\"id\": \"server9\", \"type\": \"atomic\", \"ports\": {\"out\": [{\"name\": \"done\", \"message_type\": \"Any\", \"kind\": \"out\"}, {\"name\": \"ready\", \"message_type\": \"Any\", \"kind\": \"out\"}], \"in\": [{\"name\": \"job\", \"message_type\": \"Any\", \"kind\": \"in\"}, {\"name\": \"powerSignal\", \"message_type\": \"Any\", \"kind\": \"in\"}]}}], \"ports\": {\"out\": [{\"name\": \"queueLoad\", \"message_type\": \"Any\", \"kind\": \"out\"}, {\"name\": \"discarded\", \"message_type\": \"Any\", \"kind\": \"out\"}, {\"name\": \"jobDone\", \"message_type\": \"Any\", \"kind\": \"out\"}, {\"name\": \"loadAvg\", \"message_type\": \"Any\", \"kind\": \"out\"}], \"in\": []}, \"eoc\": [{\"to_port\": \"discarded\", \"from_port\": \"discarded\", \"from_model\": \"queue\"}, {\"to_port\": \"queueLoad\", \"from_port\": \"queueLoad\", \"from_model\": \"queue\"}, {\"to_port\": \"jobDone\", \"from_port\": \"done\", \"from_model\": \"server0\"}, {\"to_port\": \"jobDone\", \"from_port\": \"done\", \"from_model\": \"server1\"}, {\"to_port\": \"jobDone\", \"from_port\": \"done\", \"from_model\": \"server2\"}, {\"to_port\": \"jobDone\", \"from_port\": \"done\", \"from_model\": \"server3\"}, {\"to_port\": \"jobDone\", \"from_port\": \"done\", \"from_model\": \"server4\"}, {\"to_port\": \"jobDone\", \"from_port\": \"done\", \"from_model\": \"server5\"}, {\"to_port\": \"jobDone\", \"from_port\": \"done\", \"from_model\": \"server6\"}, {\"to_port\": \"jobDone\", \"from_port\": \"done\", \"from_model\": \"server7\"}, {\"to_port\": \"jobDone\", \"from_port\": \"done\", \"from_model\": \"server8\"}, {\"to_port\": \"jobDone\", \"from_port\": \"done\", \"from_model\": \"server9\"}, {\"to_port\": \"loadAvg\", \"from_port\": \"loadAvg\", \"from_model\": \"autoscaler\"}], \"eic\": [], \"ic\": [{\"to_port\": \"serverStatus\", \"to_model\": \"dispatcher\", \"from_port\": \"serverStatus\", \"from_model\": \"autoscaler\"}, {\"to_port\": \"newJob\", \"to_model\": \"dispatcher\", \"from_port\": \"out\", \"from_model\": \"queue\"}, {\"to_port\": \"emit\", \"to_model\": \"queue\", \"from_port\": \"requestJob\", \"from_model\": \"dispatcher\"}, {\"to_port\": \"in\", \"to_model\": \"queue\", \"from_port\": \"attack\", \"from_model\": \"attacker\"}, {\"to_port\": \"job\", \"to_model\": \"server0\", \"from_port\": \"server0\", \"from_model\": \"dispatcher\"}, {\"to_port\": \"jobDone\", \"to_model\": \"dispatcher\", \"from_port\": \"done\", \"from_model\": \"server0\"}, {\"to_port\": \"serverResponse\", \"to_model\": \"autoscaler\", \"from_port\": \"ready\", \"from_model\": \"server0\"}, {\"to_port\": \"powerSignal\", \"to_model\": \"server0\", \"from_port\": \"server0\", \"from_model\": \"autoscaler\"}, {\"to_port\": \"job\", \"to_model\": \"server1\", \"from_port\": \"server1\", \"from_model\": \"dispatcher\"}, {\"to_port\": \"jobDone\", \"to_model\": \"dispatcher\", \"from_port\": \"done\", \"from_model\": \"server1\"}, {\"to_port\": \"serverResponse\", \"to_model\": \"autoscaler\", \"from_port\": \"ready\", \"from_model\": \"server1\"}, {\"to_port\": \"powerSignal\", \"to_model\": \"server1\", \"from_port\": \"server1\", \"from_model\": \"autoscaler\"}, {\"to_port\": \"job\", \"to_model\": \"server2\", \"from_port\": \"server2\", \"from_model\": \"dispatcher\"}, {\"to_port\": \"jobDone\", \"to_model\": \"dispatcher\", \"from_port\": \"done\", \"from_model\": \"server2\"}, {\"to_port\": \"serverResponse\", \"to_model\": \"autoscaler\", \"from_port\": \"ready\", \"from_model\": \"server2\"}, {\"to_port\": \"powerSignal\", \"to_model\": \"server2\", \"from_port\": \"server2\", \"from_model\": \"autoscaler\"}, {\"to_port\": \"job\", \"to_model\": \"server3\", \"from_port\": \"server3\", \"from_model\": \"dispatcher\"}, {\"to_port\": \"jobDone\", \"to_model\": \"dispatcher\", \"from_port\": \"done\", \"from_model\": \"server3\"}, {\"to_port\": \"serverResponse\", \"to_model\": \"autoscaler\", \"from_port\": \"ready\", \"from_model\": \"server3\"}, {\"to_port\": \"powerSignal\", \"to_model\": \"server3\", \"from_port\": \"server3\", \"from_model\": \"autoscaler\"}, {\"to_port\": \"job\", \"to_model\": \"server4\", \"from_port\": \"server4\", \"from_model\": \"dispatcher\"}, {\"to_port\": \"jobDone\", \"to_model\": \"dispatcher\", \"from_port\": \"done\", \"from_model\": \"server4\"}, {\"to_port\": \"serverResponse\", \"to_model\": \"autoscaler\", \"from_port\": \"ready\", \"from_model\": \"server4\"}, {\"to_port\": \"powerSignal\", \"to_model\": \"server4\", \"from_port\": \"server4\", \"from_model\": \"autoscaler\"}, {\"to_port\": \"job\", \"to_model\": \"server5\", \"from_port\": \"server5\", \"from_model\": \"dispatcher\"}, {\"to_port\": \"jobDone\", \"to_model\": \"dispatcher\", \"from_port\": \"done\", \"from_model\": \"server5\"}, {\"to_port\": \"serverResponse\", \"to_model\": \"autoscaler\", \"from_port\": \"ready\", \"from_model\": \"server5\"}, {\"to_port\": \"powerSignal\", \"to_model\": \"server5\", \"from_port\": \"server5\", \"from_model\": \"autoscaler\"}, {\"to_port\": \"job\", \"to_model\": \"server6\", \"from_port\": \"server6\", \"from_model\": \"dispatcher\"}, {\"to_port\": \"jobDone\", \"to_model\": \"dispatcher\", \"from_port\": \"done\", \"from_model\": \"server6\"}, {\"to_port\": \"serverResponse\", \"to_model\": \"autoscaler\", \"from_port\": \"ready\", \"from_model\": \"server6\"}, {\"to_port\": \"powerSignal\", \"to_model\": \"server6\", \"from_port\": \"server6\", \"from_model\": \"autoscaler\"}, {\"to_port\": \"job\", \"to_model\": \"server7\", \"from_port\": \"server7\", \"from_model\": \"dispatcher\"}, {\"to_port\": \"jobDone\", \"to_model\": \"dispatcher\", \"from_port\": \"done\", \"from_model\": \"server7\"}, {\"to_port\": \"serverResponse\", \"to_model\": \"autoscaler\", \"from_port\": \"ready\", \"from_model\": \"server7\"}, {\"to_port\": \"powerSignal\", \"to_model\": \"server7\", \"from_port\": \"server7\", \"from_model\": \"autoscaler\"}, {\"to_port\": \"job\", \"to_model\": \"server8\", \"from_port\": \"server8\", \"from_model\": \"dispatcher\"}, {\"to_port\": \"jobDone\", \"to_model\": \"dispatcher\", \"from_port\": \"done\", \"from_model\": \"server8\"}, {\"to_port\": \"serverResponse\", \"to_model\": \"autoscaler\", \"from_port\": \"ready\", \"from_model\": \"server8\"}, {\"to_port\": \"powerSignal\", \"to_model\": \"server8\", \"from_port\": \"server8\", \"from_model\": \"autoscaler\"}, {\"to_port\": \"job\", \"to_model\": \"server9\", \"from_port\": \"server9\", \"from_model\": \"dispatcher\"}, {\"to_port\": \"jobDone\", \"to_model\": \"dispatcher\", \"from_port\": \"done\", \"from_model\": \"server9\"}, {\"to_port\": \"serverResponse\", \"to_model\": \"autoscaler\", \"from_port\": \"ready\", \"from_model\": \"server9\"}, {\"to_port\": \"powerSignal\", \"to_model\": \"server9\", \"from_port\": \"server9\", \"from_model\": \"autoscaler\"}, {\"to_port\": \"queueLoad\", \"to_model\": \"autoscaler\", \"from_port\": \"queueLoad\", \"from_model\": \"queue\"}, {\"to_port\": \"in\", \"to_model\": \"queue\", \"from_port\": \"out\", \"from_model\": \"generator\"}]}', 'b1fb306e7c3a428f9ed6c5f7c341a790');\n",
       "    });\n",
       "  </script>\n",
       "\n",
       "  <!-- hiden button for export JSON -->\n",
       "  <a id=\"download\" style=\"display:none\"></a>\n",
       "  <!-- hiden button for export JSON -->\n",
       "  <div id=\"devs_diagrammer\">\n",
       "    <div id='body-wrapper'>\n",
       "      <div id=\"models-wrapper\"></div>\n",
       "      <div id=\"menu-wrapper\">\n",
       "        <button id=\"expand_in_new_canvas_selected\" class=\"action bp3-button bp3-minimal\" type=\"button\">Expand in new canvas</button>\n",
       "        <button class=\"action bp3-button bp3-minimal\" type=\"button\" onclick=\"remove_selected_top_models();\">Remove model</button>\n",
       "        <button class=\"action bp3-button bp3-minimal\" type=\"button\" onclick=\"toggle_models_selected();\">Expand / Contract</button>\n",
       "        <button class=\"action bp3-button bp3-minimal\" type=\"button\" onclick=\"toggle_links_selected();\">Show / Hide all links</button>\n",
       "        <button class=\"action bp3-button bp3-minimal\" type=\"button\" onclick=\"show_submodel_links_selected();\">Show / Hide model links</button>\n",
       "        <button class=\"action bp3-button bp3-minimal\" type=\"button\" onclick=\"toggle_port_name_selected();\">Show / Hide port names</button>\n",
       "      </div>\n",
       "    </div>\n",
       "  </div>\n",
       "</div>"
      ],
      "text/plain": [
       "<pringles.models.models.Coupled at 0x113e2b650>"
      ]
     },
     "execution_count": 108,
     "metadata": {},
     "output_type": "execute_result"
    }
   ],
   "source": [
    "# tendremos las mismas conexiones pero sumaremos además las del autoscaler\n",
    "\n",
    "from pringles.models import Coupled\n",
    "\n",
    "subcomponents = [dispatcher, queue, attacker, generator, scaler]\n",
    "for i in range(number_of_servers):\n",
    "    subcomponents.append(servers[i])\n",
    "    \n",
    "    \n",
    "top_model = Coupled(name='top', subcomponents=subcomponents)\n",
    "\n",
    "# adding top inports\n",
    "top_model.add_outport(\"queueLoad\")\n",
    "top_model.add_outport('discarded')\n",
    "top_model.add_outport('jobDone')\n",
    "top_model.add_outport('loadAvg')\n",
    "\n",
    "# adding serverStatus coupling between scaler and dispatcher\n",
    "top_model.add_coupling(scaler.get_port('serverStatus'), dispatcher.get_port(\"serverStatus\"))\n",
    "\n",
    "# adding couplings between queue and dispatcher\n",
    "top_model.add_coupling(queue.get_port(\"out\"), dispatcher.get_port(\"newJob\"))\n",
    "top_model.add_coupling(dispatcher.get_port(\"requestJob\"), queue.get_port(\"emit\"))\n",
    "\n",
    "# adding coupling between attacker and queue\n",
    "top_model.add_coupling(attacker.get_port('attack'), queue.get_port('in'))\n",
    "                                                                   \n",
    "\n",
    "# adding coupling between queue discarded port and top\n",
    "top_model.add_coupling(queue.get_port('discarded'), 'discarded')\n",
    "\n",
    "# adding coupling between queue queueLoad and scaler\n",
    "top_model.add_coupling(queue.get_port('queueLoad'), 'queueLoad')\n",
    "\n",
    "\n",
    "# adding couplings between dispatcher, scaler and servers\n",
    "for i in range(number_of_servers):\n",
    "    server_name = 'server' + str(i)\n",
    "    # dispatcher/servers couplings\n",
    "    top_model.add_coupling(dispatcher.get_port(server_name), servers[i].get_port('job'))\n",
    "    top_model.add_coupling(servers[i].get_port('done'), dispatcher.get_port('jobDone'))\n",
    "    \n",
    "    # scaler/servers couplings\n",
    "    top_model.add_coupling(servers[i].get_port('ready'), scaler.get_port('serverResponse'))\n",
    "    top_model.add_coupling(scaler.get_port(server_name), servers[i].get_port('powerSignal'))\n",
    "    \n",
    "    # top/servers couplings\n",
    "    top_model.add_coupling(servers[i].get_port('done'), 'jobDone')\n",
    "    \n",
    "\n",
    "# adding coupling between scaler and top of loadAvg to plot over time\n",
    "top_model.add_coupling(scaler.get_port('loadAvg'), 'loadAvg')\n",
    "\n",
    "# adding coupling between queue and scaler, where queueLoad is informed\n",
    "top_model.add_coupling(queue.get_port('queueLoad'), scaler.get_port('queueLoad'))\n",
    "\n",
    "# adding coupling between generator and queue\n",
    "top_model.add_coupling(generator.get_port('out'), queue.get_port('in'))\n",
    "\n",
    "\n",
    "print(\"Top model created\")\n",
    "top_model"
   ]
  },
  {
   "cell_type": "code",
   "execution_count": 109,
   "metadata": {},
   "outputs": [
    {
     "name": "stdout",
     "output_type": "stream",
     "text": [
      "sim_results/experimento-con-scaler/2019-10-16-005848-f4bf69cfe9d74558bde0121ac557f7d5/top_model\n"
     ]
    }
   ],
   "source": [
    "from pringles.simulator import Simulation, Event\n",
    "from pringles.utils import VirtualTime\n",
    "\n",
    "sim_evers = []\n",
    "\n",
    "\n",
    "a_simulation = Simulation(top_model = top_model, \n",
    "                          duration = VirtualTime.of_minutes(1),\n",
    "                          working_dir='sim_results/experimento-con-scaler'\n",
    "                         )\n",
    "\n",
    "dumped_top_model_path = mySimulator.dump_model_in_file(a_simulation.top_model, a_simulation.output_dir)\n",
    "\n",
    "# results = mySimulator.run_simulation(a_simulation)\n",
    "\n",
    "print(dumped_top_model_path)\n",
    "\n",
    "output_path = dumped_top_model_path[:-9] + 'output'"
   ]
  },
  {
   "cell_type": "markdown",
   "metadata": {},
   "source": [
    "Por favor, nuevamente, dirigirse al directorio de la simulación creada en 'dumped_top_model_path' y ejecutar la línea de comandos:\n",
    "\n",
    "```\n",
    "../../../bin/cd++ -m top_model -l logs/ -t 00:00:10:00 -o output\n",
    "```\n"
   ]
  },
  {
   "cell_type": "markdown",
   "metadata": {},
   "source": [
    "Una vez finalizada la simulación veamos la cantidad de paquetes realizados y descartados."
   ]
  },
  {
   "cell_type": "code",
   "execution_count": 114,
   "metadata": {},
   "outputs": [
    {
     "name": "stdout",
     "output_type": "stream",
     "text": [
      "296\r\n"
     ]
    }
   ],
   "source": [
    "! cat $output_path | grep -c discarded"
   ]
  },
  {
   "cell_type": "code",
   "execution_count": 115,
   "metadata": {},
   "outputs": [
    {
     "name": "stdout",
     "output_type": "stream",
     "text": [
      "9610\r\n"
     ]
    }
   ],
   "source": [
    "! cat $output_path | grep -c jobdone"
   ]
  },
  {
   "cell_type": "markdown",
   "metadata": {},
   "source": [
    "Como podemos observar ahora, fueron descartados 296 paquetes."
   ]
  },
  {
   "cell_type": "code",
   "execution_count": null,
   "metadata": {},
   "outputs": [],
   "source": []
  }
 ],
 "metadata": {
  "kernelspec": {
   "display_name": "Python 3",
   "language": "python",
   "name": "python3"
  },
  "language_info": {
   "codemirror_mode": {
    "name": "ipython",
    "version": 3
   },
   "file_extension": ".py",
   "mimetype": "text/x-python",
   "name": "python",
   "nbconvert_exporter": "python",
   "pygments_lexer": "ipython3",
   "version": "3.7.4"
  }
 },
 "nbformat": 4,
 "nbformat_minor": 4
}
