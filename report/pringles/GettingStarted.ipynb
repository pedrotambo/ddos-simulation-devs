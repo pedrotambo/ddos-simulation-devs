{
 "cells": [
  {
   "cell_type": "markdown",
   "metadata": {},
   "source": [
    "## Getting Started: a simple discrete-time markov chain (DTMC)"
   ]
  },
  {
   "cell_type": "markdown",
   "metadata": {},
   "source": [
    "In this notebook we will show the pringles library basics by using a simple discrete-time markov chain (DTMC) as an example. Don't worry if you don't know what a DTMC is, it's just an example."
   ]
  },
  {
   "cell_type": "markdown",
   "metadata": {},
   "source": [
    "### The C++ part (user_models/ folder)"
   ]
  },
  {
   "cell_type": "code",
   "execution_count": 1,
   "metadata": {},
   "outputs": [
    {
     "name": "stdout",
     "output_type": "stream",
     "text": [
      "DTMC.cpp\r\n",
      "DTMC.h\r\n",
      "Makefile\r\n",
      "reg.cpp\r\n"
     ]
    }
   ],
   "source": [
    "!ls -1 user_models/"
   ]
  },
  {
   "cell_type": "markdown",
   "metadata": {},
   "source": [
    "The model only has one atomic model called DTMC, defined in *DTMC.h* and *DTMC.cpp* and it is registered for the CD++ simulator in *reg.cpp*.\n",
    "\n",
    "Then we have the *Makefile* that compiles the user model alongside with the simulator.In the first lines, the path of cd++ sourcecode and the path for the executable are declared. "
   ]
  },
  {
   "cell_type": "code",
   "execution_count": 2,
   "metadata": {},
   "outputs": [
    {
     "name": "stdout",
     "output_type": "stream",
     "text": [
      "# Settings\r\n",
      "CDPP_PATH \t\t = ../../cdpp/src\r\n",
      "OUT_DIR          = $(shell pwd)/../bin\r\n",
      "\r\n",
      "\r\n",
      "KERNEL_SRC       = $(CDPP_PATH)/cd++\r\n",
      "OBJ_DIR          = $(OUT_DIR)\r\n",
      "\r\n",
      "MODEL_FLAGS      = -DREGISTER_ATOMICS\r\n",
      "\r\n"
     ]
    }
   ],
   "source": [
    "!head user_models/Makefile"
   ]
  },
  {
   "cell_type": "markdown",
   "metadata": {},
   "source": [
    "### Instatiate simulator"
   ]
  },
  {
   "cell_type": "code",
   "execution_count": null,
   "metadata": {},
   "outputs": [],
   "source": [
    "from pringles.simulator import Simulator"
   ]
  },
  {
   "cell_type": "code",
   "execution_count": null,
   "metadata": {},
   "outputs": [],
   "source": [
    "mySimulator = Simulator(cdpp_bin_path='bin/', user_models_dir='user_models/')"
   ]
  },
  {
   "cell_type": "markdown",
   "metadata": {},
   "source": [
    "When the simulator is instantiated, two things happen:\n",
    "    - It checks that there a *cd++* executable in *cdpp_bin_path*. In our case it will be there after executing make in the user_models/ directory\n",
    "    - It analyses the code in *user_models_dir* searching for the atomic models (by looking at metadata in code comments). They are stored in an AtomicRegistry."
   ]
  },
  {
   "cell_type": "code",
   "execution_count": null,
   "metadata": {},
   "outputs": [],
   "source": [
    "!tail --line=+9 user_models/DTMC.h | head -n 12"
   ]
  },
  {
   "cell_type": "markdown",
   "metadata": {},
   "source": [
    "**With the comment starting with @ModelMetadata is parsed and the atomic class is automaticaly created in python**"
   ]
  },
  {
   "cell_type": "code",
   "execution_count": null,
   "metadata": {},
   "outputs": [],
   "source": [
    "print(mySimulator.atomic_registry.discovered_atomics)"
   ]
  },
  {
   "cell_type": "code",
   "execution_count": null,
   "metadata": {},
   "outputs": [],
   "source": [
    "DTMC = mySimulator.atomic_registry.discovered_atomics[0]\n",
    "print(DTMC)"
   ]
  },
  {
   "cell_type": "markdown",
   "metadata": {},
   "source": [
    "### Creating the top model in python (equivalent to the static .ma file)"
   ]
  },
  {
   "cell_type": "code",
   "execution_count": null,
   "metadata": {},
   "outputs": [],
   "source": [
    "from pringles.models import Coupled "
   ]
  },
  {
   "cell_type": "markdown",
   "metadata": {},
   "source": [
    "When instantiating an atomic, the model parameters are passed as keyword arguments. In this case we have the parameters **r**, **s**, **N** and **initial**."
   ]
  },
  {
   "cell_type": "code",
   "execution_count": null,
   "metadata": {},
   "outputs": [],
   "source": [
    "a_DTMC = DTMC(\"a_DTMC\", r=0.5, s=0.5, N=20, initial=10)\n",
    "\n",
    "print(\"The instance already has an outport, becuase it was read from the metadata.\")\n",
    "print(\"Number of outports:\", len(a_DTMC.outports))\n",
    "print(\"Number of inports:\", len(a_DTMC.inports))\n",
    "print(\"Outport name: \", a_DTMC.outports[0].name)"
   ]
  },
  {
   "cell_type": "code",
   "execution_count": null,
   "metadata": {},
   "outputs": [],
   "source": [
    "top_model = (Coupled(name='top', subcomponents=[a_DTMC])\n",
    "                .add_outport(\"out_port\")\n",
    "                .add_coupling(a_DTMC.get_port('currentState_o'), \"out_port\")\n",
    "            )\n",
    "top_model"
   ]
  },
  {
   "cell_type": "markdown",
   "metadata": {},
   "source": [
    "### Simulate the model"
   ]
  },
  {
   "cell_type": "code",
   "execution_count": null,
   "metadata": {},
   "outputs": [],
   "source": [
    "from pringles.simulator import Simulation\n",
    "from pringles.utils import VirtualTime"
   ]
  },
  {
   "cell_type": "code",
   "execution_count": null,
   "metadata": {},
   "outputs": [],
   "source": [
    "a_simulation = Simulation(top_model = top_model, duration = VirtualTime.of_hours(1))\n",
    "\n",
    "# Executes the actual simulation\n",
    "results = mySimulator.run_simulation(a_simulation)"
   ]
  },
  {
   "cell_type": "code",
   "execution_count": null,
   "metadata": {},
   "outputs": [],
   "source": [
    "display(results.output_df.head(10))"
   ]
  },
  {
   "cell_type": "code",
   "execution_count": null,
   "metadata": {},
   "outputs": [],
   "source": [
    "print(results.logs_dfs.keys(),'\\n\\n')\n",
    "display(results.logs_dfs['ParallelRoot'].head())"
   ]
  },
  {
   "cell_type": "code",
   "execution_count": null,
   "metadata": {},
   "outputs": [],
   "source": [
    "import matplotlib.pyplot as plt\n",
    "from pringles.utils import vtime_decorate\n",
    "\n",
    "fig, axes = plt.subplots(1, 3, figsize=(20, 10))\n",
    "results.plot_port('ParallelRoot', 'out_port', axes=vtime_decorate(axes[0]), index=0)\n",
    "results.plot_port('ParallelRoot', 'out_port', axes=vtime_decorate(axes[1]), index=1)\n",
    "results.plot_port('ParallelRoot', 'out_port', axes=vtime_decorate(axes[2]), index=2)"
   ]
  },
  {
   "cell_type": "markdown",
   "metadata": {},
   "source": [
    "### Simulation Persistance\n",
    "\n",
    "By default, pringles saves all the model (.ma), logs and output files from simulations in temp files.\n",
    "\n",
    "The user can also indicate the location where these files will be saved when creating the Simulation object:"
   ]
  },
  {
   "cell_type": "code",
   "execution_count": null,
   "metadata": {},
   "outputs": [],
   "source": [
    "a_simulation = Simulation(top_model = top_model,\n",
    "                          duration = VirtualTime.of_hours(1),\n",
    "                          working_dir='sim_results/')\n",
    "\n",
    "# Executes the actual simulation, now in sim_results/ directory\n",
    "mySimulator.run_simulation(a_simulation)"
   ]
  },
  {
   "cell_type": "markdown",
   "metadata": {},
   "source": [
    "Besides being returned by `run_simulation`, can also be accessed through the `Simulation` object"
   ]
  },
  {
   "cell_type": "code",
   "execution_count": null,
   "metadata": {},
   "outputs": [],
   "source": [
    "a_simulation.result"
   ]
  },
  {
   "cell_type": "markdown",
   "metadata": {},
   "source": [
    "All the data from the simulation is saved in a folder inside the working_dir, with a timestamp as a name. The name of the folder can be accessed through `a_simulation.output_dir`"
   ]
  },
  {
   "cell_type": "code",
   "execution_count": null,
   "metadata": {},
   "outputs": [],
   "source": [
    "!ls \"$a_simulation.output_dir\""
   ]
  },
  {
   "cell_type": "markdown",
   "metadata": {},
   "source": [
    "#### What's in the directory of the simulation?\n",
    "\n",
    "- `logs`, the main log file generated by CD++\n",
    "- `logsXX`, one log for each component of the simulation, also generated by CD++\n",
    "- `output`, CD++ output file\n",
    "- `top_model`, the generated .ma file used as input of the simulation executable\n",
    "- `simulation.pkl`, a [pickle](https://docs.python.org/3/library/pickle.html) of the simulation object"
   ]
  },
  {
   "cell_type": "markdown",
   "metadata": {},
   "source": [
    "After running the simulation, a pickle of the simulation is automaticaly generated.\n",
    "\n",
    "If you wan't to analysis data from old simulation, you can do so by reading the pickle file:"
   ]
  },
  {
   "cell_type": "code",
   "execution_count": null,
   "metadata": {},
   "outputs": [],
   "source": [
    "pickle_path = a_simulation.output_dir + '/simulation.pkl'\n",
    "\n",
    "recovered_simulation = Simulation.read_pickle(pickle_path)"
   ]
  },
  {
   "cell_type": "markdown",
   "metadata": {},
   "source": [
    "**Warning:** for this to work you will have to have the Simulator object instanciated so the model Atomics are discovered."
   ]
  },
  {
   "cell_type": "code",
   "execution_count": null,
   "metadata": {},
   "outputs": [],
   "source": [
    "recovered_simulation.result.output_df.head()"
   ]
  }
 ],
 "metadata": {
  "kernelspec": {
   "display_name": "Python 2",
   "language": "python",
   "name": "python2"
  },
  "language_info": {
   "codemirror_mode": {
    "name": "ipython",
    "version": 2
   },
   "file_extension": ".py",
   "mimetype": "text/x-python",
   "name": "python",
   "nbconvert_exporter": "python",
   "pygments_lexer": "ipython2",
   "version": "2.7.16"
  }
 },
 "nbformat": 4,
 "nbformat_minor": 4
}
