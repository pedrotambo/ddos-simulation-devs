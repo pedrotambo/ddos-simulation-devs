{
 "cells": [
  {
   "cell_type": "code",
   "execution_count": 49,
   "metadata": {},
   "outputs": [],
   "source": [
    "from pringles.simulator import Simulator\n",
    "mySimulator = Simulator(cdpp_bin_path='bin/', user_models_dir='src/')"
   ]
  },
  {
   "cell_type": "code",
   "execution_count": 50,
   "metadata": {},
   "outputs": [
    {
     "name": "stdout",
     "output_type": "stream",
     "text": [
      "<class 'pringles.models.models.Server'>\n",
      "<class 'pringles.models.models.Dispatcher'>\n"
     ]
    }
   ],
   "source": [
    "for atomic in mySimulator.atomic_registry.discovered_atomics:\n",
    "    if atomic.__name__ == \"Server\":\n",
    "        Server = atomic\n",
    "    elif atomic.__name__ == \"AutoScaler\":\n",
    "        AutoScaler = atomic\n",
    "    elif atomic.__name__ == \"ServerQueue\":\n",
    "        ServerQueue = atomic\n",
    "    elif atomic.__name__ == \"Dispatcher\":\n",
    "        Dispatcher = atomic\n",
    "\n",
    "print(Server)\n",
    "print(Dispatcher)"
   ]
  },
  {
   "cell_type": "code",
   "execution_count": 30,
   "metadata": {},
   "outputs": [
    {
     "name": "stdout",
     "output_type": "stream",
     "text": [
      "Inport names:  ['job', 'powerSignal']\n",
      "Outport names:  ['done', 'ready']\n"
     ]
    }
   ],
   "source": [
    "from pringles.models import Coupled \n",
    "a_server = Server(\"a_server\", initialStatus=\"free\", mean=10.0, setupTime=\"0:0:10:0\")\n",
    "\n",
    "print(\"Inport names: \", [port.name for port in a_server.inports])\n",
    "print(\"Outport names: \", [port.name for port in a_server.outports])"
   ]
  },
  {
   "cell_type": "code",
   "execution_count": 31,
   "metadata": {},
   "outputs": [],
   "source": [
    "top_model = (Coupled(name='top', subcomponents=[a_server])\n",
    "                .add_inport(\"job\")\n",
    "                .add_inport(\"powerSignal\")             \n",
    "                .add_outport(\"done\")\n",
    "                .add_outport(\"ready\")\n",
    "                .add_coupling(a_server.get_port('done'), \"done\")\n",
    "                .add_coupling(a_server.get_port('ready'), \"ready\")\n",
    "                .add_coupling('job', a_server.get_port(\"job\"))\n",
    "                .add_coupling('powerSignal', a_server.get_port(\"powerSignal\"))\n",
    "            )\n",
    "# top_model"
   ]
  },
  {
   "cell_type": "code",
   "execution_count": 32,
   "metadata": {},
   "outputs": [],
   "source": [
    "from pringles.simulator import Simulation, Event\n",
    "from pringles.utils import VirtualTime\n",
    "\n",
    "a_event = Event(VirtualTime(0,0,15,0,0), top_model.get_port('job'), float(1))"
   ]
  },
  {
   "cell_type": "code",
   "execution_count": 33,
   "metadata": {},
   "outputs": [],
   "source": [
    "sim_events = [\n",
    "    Event(VirtualTime(0,0,15,0,0), top_model.get_port('job'), float(1))\n",
    "]\n",
    "\n",
    "a_simulation = Simulation(top_model = top_model, \n",
    "                          duration = VirtualTime.of_minutes(30), \n",
    "                          events=sim_events,\n",
    "                          working_dir='sim_results/'\n",
    "                         )\n",
    "\n",
    "# Executes the actual simulation\n",
    "results = mySimulator.run_simulation(a_simulation)"
   ]
  },
  {
   "cell_type": "code",
   "execution_count": 34,
   "metadata": {
    "scrolled": true
   },
   "outputs": [
    {
     "name": "stdout",
     "output_type": "stream",
     "text": [
      "PCD++: A Tool to Implement n-Dimensional Cell-DEVS models\n",
      "Version 3.0 - March 2003\n",
      "Troccoli A., Rodriguez D., Wainer G., Barylko A., Beyoglonian J., Lopez A.\n",
      "-----------------------------------------------------------------------------\n",
      "PCD++ Extended States: An extended and improved version of CD++ for Cell-DEVS\n",
      "Version 4.1.2 - December 2018\n",
      "Santi L., Castro, R., Pimás, J.\n",
      "-----------------------------------------------------------------------------\n",
      "Discrete Event Simulation Lab\n",
      "Departamento de Computación\n",
      "Facultad de Ciencias Exactas y Naturales\n",
      "Universidad de Buenos Aires, Argentina\n",
      "-----------------------------------------------------------------------------\n",
      "Compiled for standalone simulation\n",
      "\n",
      "\n",
      "Loading models from sim_results/2019-10-08-194534-565abab91eb24b5cb99ec26e5da16674/top_model\n",
      "Loading events from sim_results/2019-10-08-194534-565abab91eb24b5cb99ec26e5da16674/events\n",
      "Running parallel simulation. Reading models partition from \n",
      "Model partition details output to: /dev/null*\n",
      "Message log: sim_results/2019-10-08-194534-565abab91eb24b5cb99ec26e5da16674/logs\n",
      "Output to: sim_results/2019-10-08-194534-565abab91eb24b5cb99ec26e5da16674/output\n",
      "Tolerance set to: 1e-08\n",
      "Configuration to show real numbers: Width = 12 - Precision = 5\n",
      "Quantum: Not used\n",
      "Evaluate Debug Mode = OFF\n",
      "Flat Cell Debug Mode = OFF\n",
      "Debug Cell Rules Mode = OFF\n",
      "Temporary File created by Preprocessor = /var/tmp/tmp.0.kSQL7B\n",
      "Printing parser information = OFF\n",
      "\n",
      "Stop at time: 00:30:00:000:0\n",
      "Server atomic succesfully created\n",
      "Server parameters: \n",
      "\tmean: 10\n",
      "\tsetupTime: 00:00:10:000:0\n",
      "\tinitialStatus: free\n",
      "\tpoweringOn: 0\n",
      "LP 0: initializing simulation objects\n",
      "00:00:15:000:0 / job /      1.00000\n",
      "LP 0: starting simulation (NoTime).\n",
      "Server atomic initialized\n",
      "Simulation complete!\n",
      "Simulation ended!\n",
      "LP 0 has finished simulation \n",
      "\n"
     ]
    }
   ],
   "source": [
    "print(results.get_process_output())"
   ]
  },
  {
   "cell_type": "raw",
   "metadata": {},
   "source": [
    "results.plot_port('job')"
   ]
  },
  {
   "cell_type": "code",
   "execution_count": 35,
   "metadata": {},
   "outputs": [
    {
     "data": {
      "text/html": [
       "<div>\n",
       "<style scoped>\n",
       "    .dataframe tbody tr th:only-of-type {\n",
       "        vertical-align: middle;\n",
       "    }\n",
       "\n",
       "    .dataframe tbody tr th {\n",
       "        vertical-align: top;\n",
       "    }\n",
       "\n",
       "    .dataframe thead th {\n",
       "        text-align: right;\n",
       "    }\n",
       "</style>\n",
       "<table border=\"1\" class=\"dataframe\">\n",
       "  <thead>\n",
       "    <tr style=\"text-align: right;\">\n",
       "      <th></th>\n",
       "      <th>time</th>\n",
       "      <th>port</th>\n",
       "      <th>value</th>\n",
       "    </tr>\n",
       "  </thead>\n",
       "  <tbody>\n",
       "    <tr>\n",
       "      <th>0</th>\n",
       "      <td>00:00:21:116</td>\n",
       "      <td>done</td>\n",
       "      <td>1.0</td>\n",
       "    </tr>\n",
       "  </tbody>\n",
       "</table>\n",
       "</div>"
      ],
      "text/plain": [
       "           time  port  value\n",
       "0  00:00:21:116  done    1.0"
      ]
     },
     "metadata": {},
     "output_type": "display_data"
    }
   ],
   "source": [
    "display(results.output_df.head(100))"
   ]
  },
  {
   "cell_type": "code",
   "execution_count": 10,
   "metadata": {},
   "outputs": [
    {
     "name": "stdout",
     "output_type": "stream",
     "text": [
      "dict_keys(['a_server', 'top', 'ParallelRoot']) \n",
      "\n",
      "\n"
     ]
    },
    {
     "data": {
      "text/html": [
       "<div>\n",
       "<style scoped>\n",
       "    .dataframe tbody tr th:only-of-type {\n",
       "        vertical-align: middle;\n",
       "    }\n",
       "\n",
       "    .dataframe tbody tr th {\n",
       "        vertical-align: top;\n",
       "    }\n",
       "\n",
       "    .dataframe thead th {\n",
       "        text-align: right;\n",
       "    }\n",
       "</style>\n",
       "<table border=\"1\" class=\"dataframe\">\n",
       "  <thead>\n",
       "    <tr style=\"text-align: right;\">\n",
       "      <th></th>\n",
       "      <th>0</th>\n",
       "      <th>1</th>\n",
       "      <th>message_type</th>\n",
       "      <th>time</th>\n",
       "      <th>model_origin</th>\n",
       "      <th>port</th>\n",
       "      <th>value</th>\n",
       "      <th>model_dest</th>\n",
       "    </tr>\n",
       "  </thead>\n",
       "  <tbody>\n",
       "    <tr>\n",
       "      <th>0</th>\n",
       "      <td>0</td>\n",
       "      <td>L</td>\n",
       "      <td>Y</td>\n",
       "      <td>00:00:21:116</td>\n",
       "      <td>top(02)</td>\n",
       "      <td>done</td>\n",
       "      <td>1.0</td>\n",
       "      <td>ParallelRoot(00)</td>\n",
       "    </tr>\n",
       "  </tbody>\n",
       "</table>\n",
       "</div>"
      ],
      "text/plain": [
       "   0  1 message_type          time model_origin  port  value        model_dest\n",
       "0  0  L            Y  00:00:21:116      top(02)  done    1.0  ParallelRoot(00)"
      ]
     },
     "metadata": {},
     "output_type": "display_data"
    }
   ],
   "source": [
    "print(results.logs_dfs.keys(),'\\n\\n')\n",
    "display(results.logs_dfs['ParallelRoot'].head())"
   ]
  },
  {
   "cell_type": "code",
   "execution_count": 11,
   "metadata": {},
   "outputs": [],
   "source": [
    "# import matplotlib.pyplot as plt\n",
    "# from pringles.utils import vtime_decorate\n",
    "\n",
    "# fig, axes = plt.subplots(1, 3, figsize=(20, 10))\n",
    "# results.plot_port('ParallelRoot', 'out_port', axes=vtime_decorate(axes[0]), index=0)\n",
    "# results.plot_port('ParallelRoot', 'out_port', axes=vtime_decorate(axes[1]), index=1)\n",
    "# results.plot_port('ParallelRoot', 'out_port', axes=vtime_decorate(axes[2]), index=2)"
   ]
  },
  {
   "cell_type": "code",
   "execution_count": null,
   "metadata": {},
   "outputs": [],
   "source": [
    "pickle_path = a_simulation.output_dir + '/simulation.pkl'\n",
    "\n",
    "recovered_simulation = Simulation.read_pickle(pickle_path)"
   ]
  },
  {
   "cell_type": "markdown",
   "metadata": {},
   "source": [
    "**Warning:** for this to work you will have to have the Simulator object instanciated so the model Atomics are discovered."
   ]
  },
  {
   "cell_type": "code",
   "execution_count": null,
   "metadata": {},
   "outputs": [],
   "source": [
    "recovered_simulation.result.output_df.head()"
   ]
  }
 ],
 "metadata": {
  "kernelspec": {
   "display_name": "Python 2",
   "language": "python",
   "name": "python2"
  },
  "language_info": {
   "codemirror_mode": {
    "name": "ipython",
    "version": 3
   },
   "file_extension": ".py",
   "mimetype": "text/x-python",
   "name": "python",
   "nbconvert_exporter": "python",
   "pygments_lexer": "ipython3",
   "version": "3.7.4"
  }
 },
 "nbformat": 4,
 "nbformat_minor": 4
}
