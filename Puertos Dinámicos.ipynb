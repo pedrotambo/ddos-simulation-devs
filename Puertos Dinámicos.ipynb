{
 "cells": [
  {
   "cell_type": "markdown",
   "metadata": {},
   "source": [
    "# CD++: Puertos Dinámicos"
   ]
  },
  {
   "cell_type": "markdown",
   "metadata": {},
   "source": [
    "En este notebook veremos específicamente como creamos puertos dinámicos con la herramienta CD++. Lo haremos anlizando nuestro caso de uso, con puertos de salida (aunque reproducible para puertos de entrada). \n",
    "\n",
    "En nuestro modelo contabamos con un Dispatcher que se encargaba de enviar jobs a N servers. Una posibilidad frente a esto sería, crear como veníamos haciendo N puertos de salida en el dispatcher declarando explícitamente cada uno. La contra de esto es que, para modificar la cantidad de puertos se debía modificar el código y recompilarlo. Luego el mismo no sería reutilizable con distintos .ma que tengan distinta cantidad de servers.\n",
    "\n",
    "A continuación analizamos la alternativa."
   ]
  },
  {
   "cell_type": "markdown",
   "metadata": {},
   "source": [
    "## Puertos dinámicos: utilizando un mapa de puertos\n",
    "\n",
    "La otra solución que utilizamos fue declarar un mapa de puertos en el dispatcher.h sin ningún tamaño inicial. De esta manera, mapearemos el servidor i con el puerto i. (0 <= i < n). Aclaración: utilizamos un mapa porque necesitabamos asociar al servidor i con el puerto i porque además tiempo guardabamos el estado de los mismos. Pero si esto no fuera necesario en nuestro modelo, se podría utilizar únicamente un vector de puertos y utilizarlos libremente.\n",
    "\n",
    "Veamos como queda:"
   ]
  },
  {
   "cell_type": "code",
   "execution_count": 9,
   "metadata": {},
   "outputs": [
    {
     "name": "stdout",
     "output_type": "stream",
     "text": [
      "    // This is a map of server_id => port\r\n",
      "    map<int, Port*> jobsToProcess;\r\n"
     ]
    }
   ],
   "source": [
    "! head -n 60 src/dispatcher.h | tail -n 2"
   ]
  },
  {
   "cell_type": "markdown",
   "metadata": {},
   "source": [
    "Luego, en el .ma definimos los puertos, la cantidad de servers y el estado inicial de cada uno:"
   ]
  },
  {
   "cell_type": "code",
   "execution_count": 10,
   "metadata": {},
   "outputs": [
    {
     "name": "stdout",
     "output_type": "stream",
     "text": [
      "[top]\r\n",
      "components : dispatcher@dispatcher server0@server server1@server server2@server server3@server server4@server \r\n",
      "in : newJob jobDone serverStackInfo\r\n",
      "out : requestJob server0 server1 server2 server3 server4\r\n",
      "link : newJob newJob@dispatcher\r\n",
      "link : jobDone jobDone@dispatcher \r\n",
      "link : serverStackInfo serverStackInfo@dispatcher\r\n",
      "link : requestJob@dispatcher requestJob\r\n",
      "link : server0@dispatcher job@server0\r\n",
      "link : server1@dispatcher job@server1\r\n",
      "link : server2@dispatcher job@server2\r\n",
      "link : server3@dispatcher job@server3\r\n",
      "link : server4@dispatcher job@server4\r\n",
      "\r\n",
      "[dispatcher]\r\n",
      "in : newJob jobDone serverStackInfo\r\n",
      "out : requestJob server0 server1 server2 server3 server4\r\n",
      "numberOfServers : 5\r\n",
      "\r\n",
      "server0: free\r\n",
      "server1: free\r\n",
      "server2: off\r\n",
      "server3: free\r\n",
      "server4: free\r\n"
     ]
    }
   ],
   "source": [
    "! cat models/dispatcher.ma "
   ]
  },
  {
   "cell_type": "markdown",
   "metadata": {},
   "source": [
    "Una vez declarados los mismos en el .ma, debemos proceder a leer estos parámetros desde el código de c++. En el archivo del dispatcher, dispatcher.cpp, lo que haremos es:\n",
    "   1. Leer el parámetro _numberOfServers_\n",
    "   2. Luego iterar sobre esta cantidad, y en la i-ésima iteración leer el parámetro compuesto por la palabra server y el número de la iteración:  _\"server\" + string(i)_.\n",
    "   3. Agregamos el outputPort al modelo y guardamos un puntero hacia el mismo: **_Port* linkToServer = &addOutputPort(portName)_**\n",
    "   4. Agregamos el puntero al puerto asociado al server i-ésimo en en el mapa: **_jobsToProcess[i] = linkToServer_**\n",
    "   5. Luego al usar el puerto para enviar un mensaje, debemos obtenerlo de nuestro mapa y derreferenciarlo, por ejemplo: **_sendOutput(msg.time(), *jobsToProcess[i], this->jobID)_**\n",
    "   \n",
    "A continuación veamos el código utilizado para los puntos de 1 a 4:"
   ]
  },
  {
   "cell_type": "markdown",
   "metadata": {},
   "source": [
    "```\n",
    "Dispatcher::Dispatcher(const string &name) : \n",
    "    Atomic(name),\n",
    "    newJob(addInputPort(\"newJob\")),\n",
    "    jobDone(addInputPort(\"jobDone\")),\n",
    "    serverStatus(addInputPort(\"serverStatus\")),\t\n",
    "    requestJob(addOutputPort(\"requestJob\")),\n",
    "    jobID(Real(0)),\n",
    "    requestedJob(false),\n",
    "    jobArrived(false),\n",
    "    serverToDispatch(-1)\n",
    "{\n",
    "    numberOfServers = stoi( ParallelMainSimulator::Instance().getParameter( description(), \"numberOfServers\" ) );\n",
    "\n",
    "    for (register int i = 0; i < numberOfServers; i++){\n",
    "        string serverStateVarName = \"server\" + to_string(i);\n",
    "        // now we initialize server status\n",
    "        if( ParallelMainSimulator::Instance().existsParameter( description(), serverStateVarName ) ){\n",
    "            string serverState( ParallelMainSimulator::Instance().getParameter( description(), serverStateVarName ) ) ;\n",
    "            statusOfServers[i] = serverState;\n",
    "        } else {\n",
    "            statusOfServers[i] = DEFAULT_SERVER_STATE;\n",
    "        }\n",
    "\n",
    "        // now we create output ports to servers\n",
    "        string portName = \"server\" + to_string(i);\n",
    "        if (DISPATCHER_DEBUGGING_ENABLED){\n",
    "            cout << \"[DISPATCHER::Dispatcher] Creating port for: \" << portName << endl;\n",
    "        }\n",
    "        Port* linkToServer = &addOutputPort(portName);\n",
    "        jobsToProcess[i] = linkToServer;\n",
    "    }\n",
    "\n",
    "    if (statusOfServers.size() > numberOfServers){\n",
    "        MTHROW(MException(\"Error! Hay más servers que los permitidos\"))\n",
    "    }\n",
    "}\n",
    "```"
   ]
  },
  {
   "cell_type": "markdown",
   "metadata": {},
   "source": [
    "### Integrar puertos dinámicos con Pringles\n",
    "\n",
    "Como sabemos, al utilizar la herramienta pringles, debemos declarar los puertos en la metadata que lee de los archivos headers, lo que hace necesario que la información de los puertos este escrita en los mismos. \n",
    "\n",
    "Sin embargo, la herramienta también permite agregar puertos dinámicamente a los modelos una vez descubiertos (es decir, después de la lectura de los headers). Esto se puede realizar utilizando los métodos: **_add_outport(portName)_**, **_add_inport(portName)_**\n",
    "\n",
    "Veamos un ejemplo en el que instanciamos los servidores y el dispatcher:"
   ]
  },
  {
   "cell_type": "markdown",
   "metadata": {},
   "source": [
    "```\n",
    "from pringles.models.errors import PortNotFoundException\n",
    "\n",
    "dispatcher = Dispatcher('dispatcher', **dispatcherDefaultConfig)\n",
    "servers = {}\n",
    "for i in range(number_of_servers):\n",
    "    server_name = 'server' + str(i)\n",
    "    servers[i] = Server(server_name, **serverOnDefaultConifg)\n",
    "    try:\n",
    "        dispatcher.get_port(server_name)\n",
    "    except PortNotFoundException:\n",
    "        dispatcher.add_outport(server_name)\n",
    "```"
   ]
  },
  {
   "cell_type": "code",
   "execution_count": null,
   "metadata": {},
   "outputs": [],
   "source": []
  }
 ],
 "metadata": {
  "kernelspec": {
   "display_name": "Python 3",
   "language": "python",
   "name": "python3"
  },
  "language_info": {
   "codemirror_mode": {
    "name": "ipython",
    "version": 3
   },
   "file_extension": ".py",
   "mimetype": "text/x-python",
   "name": "python",
   "nbconvert_exporter": "python",
   "pygments_lexer": "ipython3",
   "version": "3.7.4"
  }
 },
 "nbformat": 4,
 "nbformat_minor": 2
}
