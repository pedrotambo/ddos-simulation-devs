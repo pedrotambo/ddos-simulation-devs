{
 "cells": [
  {
   "cell_type": "code",
   "execution_count": 1,
   "metadata": {},
   "outputs": [],
   "source": [
    "from pringles.simulator import Simulator\n",
    "mySimulator = Simulator(cdpp_bin_path='bin/', user_models_dir='src/')"
   ]
  },
  {
   "cell_type": "code",
   "execution_count": 2,
   "metadata": {},
   "outputs": [
    {
     "name": "stdout",
     "output_type": "stream",
     "text": [
      "<class 'pringles.models.models.Server'>\n",
      "<class 'pringles.models.models.Dispatcher'>\n"
     ]
    }
   ],
   "source": [
    "for atomic in mySimulator.atomic_registry.discovered_atomics:\n",
    "    if atomic.__name__ == \"Server\":\n",
    "        Server = atomic\n",
    "    elif atomic.__name__ == \"AutoScaler\":\n",
    "        AutoScaler = atomic\n",
    "    elif atomic.__name__ == \"ServerQueue\":\n",
    "        ServerQueue = atomic\n",
    "    elif atomic.__name__ == \"Dispatcher\":\n",
    "        Dispatcher = atomic\n",
    "\n",
    "print(Server)\n",
    "print(Dispatcher)"
   ]
  },
  {
   "cell_type": "code",
   "execution_count": 3,
   "metadata": {},
   "outputs": [
    {
     "name": "stdout",
     "output_type": "stream",
     "text": [
      "Inport names:  ['newJob', 'jobDone', 'serverStackInfo']\n",
      "Outport names:  ['requestJob', 'server0', 'server1', 'server2']\n"
     ]
    }
   ],
   "source": [
    "from pringles.models import Coupled \n",
    "a_dispatcher = Dispatcher(\"a_dispatcher\", numberOfServers=5, server2=\"free\")\n",
    "\n",
    "print(\"Inport names: \", [port.name for port in a_dispatcher.inports])\n",
    "print(\"Outport names: \", [port.name for port in a_dispatcher.outports])"
   ]
  },
  {
   "cell_type": "code",
   "execution_count": 12,
   "metadata": {},
   "outputs": [
    {
     "data": {
      "text/html": [
       "<div id=\"cef493295aae458aa9b9f21325a40e87\" class=\"devs_diagrammer_wrapper\">\n",
       "\n",
       "  <link rel=\"stylesheet\" href=\"http://localhost:53564/_static/css/style.css\" />\n",
       "\n",
       "  <script src=\"http://localhost:53564/_static/vendors/js/createjs/createjs-2013.12.12.min.js\"></script>\n",
       "  <script src=\"http://localhost:53564/_static/vendors/js/jquery-3.2.1/jquery-3.2.1.min.js\"></script>\n",
       "  <script src=\"http://localhost:53564/_static/js/ColorCodes.js\"></script>\n",
       "  <script src=\"http://localhost:53564/_static/js/main.js\"></script>\n",
       "  <script src=\"http://localhost:53564/_static/js/manifest.js\"></script>\n",
       "  <script src=\"http://localhost:53564/_static/js/toposort.js\"></script>\n",
       "  <script src=\"http://localhost:53564/_static/js/Square.js\"></script>\n",
       "  <script src=\"http://localhost:53564/_static/js/Port.js\"></script>\n",
       "  <script src=\"http://localhost:53564/_static/js/Link.js\"></script>\n",
       "  <script src=\"http://localhost:53564/_static/js/JSONModelGraphics.js\"></script>\n",
       "  <script src=\"http://localhost:53564/_static/js/Model.js\"></script>\n",
       "  <script src=\"http://localhost:53564/_static/js/Canvas.js\"></script>\n",
       " \n",
       "  <script type=\"text/javascript\">\n",
       "    $(document).ready(function () {\n",
       "      console.info(\"About to start drawing model\");\n",
       "      menu_init();\n",
       "      addCanvasFromJson('{\"id\": \"top\", \"type\": \"coupled\", \"models\": [{\"id\": \"a_dispatcher\", \"type\": \"atomic\", \"ports\": {\"out\": [{\"name\": \"requestJob\", \"message_type\": \"Any\", \"kind\": \"out\"}, {\"name\": \"server0\", \"message_type\": \"Any\", \"kind\": \"out\"}, {\"name\": \"server1\", \"message_type\": \"Any\", \"kind\": \"out\"}, {\"name\": \"server2\", \"message_type\": \"Any\", \"kind\": \"out\"}], \"in\": [{\"name\": \"newJob\", \"message_type\": \"Any\", \"kind\": \"in\"}, {\"name\": \"jobDone\", \"message_type\": \"Any\", \"kind\": \"in\"}, {\"name\": \"serverStackInfo\", \"message_type\": \"Any\", \"kind\": \"in\"}]}}], \"ports\": {\"out\": [{\"name\": \"requestJob\", \"message_type\": \"Any\", \"kind\": \"out\"}, {\"name\": \"server0\", \"message_type\": \"Any\", \"kind\": \"out\"}, {\"name\": \"server1\", \"message_type\": \"Any\", \"kind\": \"out\"}, {\"name\": \"server2\", \"message_type\": \"Any\", \"kind\": \"out\"}], \"in\": [{\"name\": \"newJob\", \"message_type\": \"Any\", \"kind\": \"in\"}, {\"name\": \"jobDone\", \"message_type\": \"Any\", \"kind\": \"in\"}, {\"name\": \"serverStackInfo\", \"message_type\": \"Any\", \"kind\": \"in\"}]}, \"eoc\": [{\"to_port\": \"requestJob\", \"from_port\": \"requestJob\", \"from_model\": \"a_dispatcher\"}, {\"to_port\": \"server0\", \"from_port\": \"server0\", \"from_model\": \"a_dispatcher\"}, {\"to_port\": \"server1\", \"from_port\": \"server1\", \"from_model\": \"a_dispatcher\"}, {\"to_port\": \"server2\", \"from_port\": \"server2\", \"from_model\": \"a_dispatcher\"}], \"eic\": [{\"to_port\": \"newJob\", \"to_model\": \"a_dispatcher\", \"from_port\": \"newJob\"}, {\"to_port\": \"jobDone\", \"to_model\": \"a_dispatcher\", \"from_port\": \"jobDone\"}, {\"to_port\": \"serverStackInfo\", \"to_model\": \"a_dispatcher\", \"from_port\": \"serverStackInfo\"}], \"ic\": []}', 'cef493295aae458aa9b9f21325a40e87');\n",
       "    });\n",
       "  </script>\n",
       "\n",
       "  <!-- hiden button for export JSON -->\n",
       "  <a id=\"download\" style=\"display:none\"></a>\n",
       "  <!-- hiden button for export JSON -->\n",
       "  <div id=\"devs_diagrammer\">\n",
       "    <div id='body-wrapper'>\n",
       "      <div id=\"models-wrapper\"></div>\n",
       "      <div id=\"menu-wrapper\">\n",
       "        <button id=\"expand_in_new_canvas_selected\" class=\"action bp3-button bp3-minimal\" type=\"button\">Expand in new canvas</button>\n",
       "        <button class=\"action bp3-button bp3-minimal\" type=\"button\" onclick=\"remove_selected_top_models();\">Remove model</button>\n",
       "        <button class=\"action bp3-button bp3-minimal\" type=\"button\" onclick=\"toggle_models_selected();\">Expand / Contract</button>\n",
       "        <button class=\"action bp3-button bp3-minimal\" type=\"button\" onclick=\"toggle_links_selected();\">Show / Hide all links</button>\n",
       "        <button class=\"action bp3-button bp3-minimal\" type=\"button\" onclick=\"show_submodel_links_selected();\">Show / Hide model links</button>\n",
       "        <button class=\"action bp3-button bp3-minimal\" type=\"button\" onclick=\"toggle_port_name_selected();\">Show / Hide port names</button>\n",
       "      </div>\n",
       "    </div>\n",
       "  </div>\n",
       "</div>"
      ],
      "text/plain": [
       "<pringles.models.models.Coupled at 0x1160a3850>"
      ]
     },
     "execution_count": 12,
     "metadata": {},
     "output_type": "execute_result"
    }
   ],
   "source": [
    "top_model = (Coupled(name='top', subcomponents=[a_dispatcher])\n",
    "                .add_inport(\"newJob\")\n",
    "                .add_inport(\"jobDone\")             \n",
    "                .add_inport(\"serverStackInfo\")\n",
    "                .add_outport(\"requestJob\")\n",
    "                .add_outport(\"server0\")\n",
    "                .add_outport(\"server1\")\n",
    "                .add_outport(\"server2\") \n",
    "                .add_coupling('newJob', a_dispatcher.get_port(\"newJob\"))\n",
    "                .add_coupling('jobDone', a_dispatcher.get_port(\"jobDone\"))\n",
    "                .add_coupling('serverStackInfo', a_dispatcher.get_port(\"serverStackInfo\"))\n",
    "             \n",
    "                .add_coupling(a_dispatcher.get_port('requestJob'), \"requestJob\")\n",
    "                .add_coupling(a_dispatcher.get_port('server0'), \"server0\")\n",
    "                .add_coupling(a_dispatcher.get_port('server1'), \"server1\")\n",
    "                .add_coupling(a_dispatcher.get_port('server2'), \"server2\")\n",
    "            )\n",
    "top_model"
   ]
  },
  {
   "cell_type": "code",
   "execution_count": 10,
   "metadata": {},
   "outputs": [],
   "source": [
    "from pringles.simulator import Simulation, Event\n",
    "from pringles.utils import VirtualTime"
   ]
  },
  {
   "cell_type": "code",
   "execution_count": 13,
   "metadata": {},
   "outputs": [],
   "source": [
    "sim_events = [\n",
    "    Event(VirtualTime(0,0,20,0,0), top_model.get_port('serverStackInfo'), [float(2),float(0)]),\n",
    "    Event(VirtualTime(0,0,25,0,0), top_model.get_port('newJob'), float(1)),\n",
    "    Event(VirtualTime(0,0,35,0,0), top_model.get_port('serverStackInfo'), [float(3),float(1)]),\n",
    "    Event(VirtualTime(0,0,40,0,0), top_model.get_port('serverStackInfo'), [float(1),float(1)]),\n",
    "    Event(VirtualTime(0,0,42,0,0), top_model.get_port('newJob'), float(1))\n",
    "]\n",
    "\n",
    "a_simulation = Simulation(top_model = top_model, \n",
    "                          duration = VirtualTime.of_minutes(50), \n",
    "                          events=sim_events,\n",
    "                          working_dir='sim_results/'\n",
    "                         )\n",
    "\n",
    "results = mySimulator.run_simulation(a_simulation)"
   ]
  },
  {
   "cell_type": "code",
   "execution_count": 14,
   "metadata": {
    "scrolled": true
   },
   "outputs": [
    {
     "name": "stdout",
     "output_type": "stream",
     "text": [
      "PCD++: A Tool to Implement n-Dimensional Cell-DEVS models\n",
      "Version 3.0 - March 2003\n",
      "Troccoli A., Rodriguez D., Wainer G., Barylko A., Beyoglonian J., Lopez A.\n",
      "-----------------------------------------------------------------------------\n",
      "PCD++ Extended States: An extended and improved version of CD++ for Cell-DEVS\n",
      "Version 4.1.2 - December 2018\n",
      "Santi L., Castro, R., Pimás, J.\n",
      "-----------------------------------------------------------------------------\n",
      "Discrete Event Simulation Lab\n",
      "Departamento de Computación\n",
      "Facultad de Ciencias Exactas y Naturales\n",
      "Universidad de Buenos Aires, Argentina\n",
      "-----------------------------------------------------------------------------\n",
      "Compiled for standalone simulation\n",
      "\n",
      "\n",
      "Loading models from sim_results/2019-10-09-180845-7a262f0b6a1d44f78218975616483ae8/top_model\n",
      "Loading events from sim_results/2019-10-09-180845-7a262f0b6a1d44f78218975616483ae8/events\n",
      "Running parallel simulation. Reading models partition from \n",
      "Model partition details output to: /dev/null*\n",
      "Message log: sim_results/2019-10-09-180845-7a262f0b6a1d44f78218975616483ae8/logs\n",
      "Output to: sim_results/2019-10-09-180845-7a262f0b6a1d44f78218975616483ae8/output\n",
      "Tolerance set to: 1e-08\n",
      "Configuration to show real numbers: Width = 12 - Precision = 5\n",
      "Quantum: Not used\n",
      "Evaluate Debug Mode = OFF\n",
      "Flat Cell Debug Mode = OFF\n",
      "Debug Cell Rules Mode = OFF\n",
      "Temporary File created by Preprocessor = /var/tmp/tmp.0.uUvbdJ\n",
      "Printing parser information = OFF\n",
      "\n",
      "Stop at time: 00:50:00:000:0\n",
      "Dispatcher atomic successfully created\n",
      "Dispatcher parameters:\n",
      "\tnumberOfServers: 5\n",
      "\tstatusOfServer 0: off\n",
      "\tstatusOfServer 1: off\n",
      "\tstatusOfServer 2: free\n",
      "\tstatusOfServer 3: off\n",
      "\tstatusOfServer 4: off\n",
      "LP 0: initializing simulation objects\n",
      "00:00:20:000:0 / serverstackinfo / [2, 0]\n",
      "00:00:25:000:0 / newjob /      1.00000\n",
      "00:00:35:000:0 / serverstackinfo / [3, 1]\n",
      "00:00:40:000:0 / serverstackinfo / [1, 1]\n",
      "00:00:42:000:0 / newjob /      1.00000\n",
      "LP 0: starting simulation (NoTime).\n",
      "Dispatcher atomic initialized\n",
      "New Job arrived, id assigned: 1\n",
      "Simulation complete!\n",
      "Simulation ended!\n",
      "LP 0 has finished simulation \n",
      "\n"
     ]
    }
   ],
   "source": [
    "print(results.get_process_output())"
   ]
  },
  {
   "cell_type": "code",
   "execution_count": 15,
   "metadata": {},
   "outputs": [
    {
     "data": {
      "text/html": [
       "<div>\n",
       "<style scoped>\n",
       "    .dataframe tbody tr th:only-of-type {\n",
       "        vertical-align: middle;\n",
       "    }\n",
       "\n",
       "    .dataframe tbody tr th {\n",
       "        vertical-align: top;\n",
       "    }\n",
       "\n",
       "    .dataframe thead th {\n",
       "        text-align: right;\n",
       "    }\n",
       "</style>\n",
       "<table border=\"1\" class=\"dataframe\">\n",
       "  <thead>\n",
       "    <tr style=\"text-align: right;\">\n",
       "      <th></th>\n",
       "      <th>time</th>\n",
       "      <th>port</th>\n",
       "      <th>value</th>\n",
       "    </tr>\n",
       "  </thead>\n",
       "  <tbody>\n",
       "    <tr>\n",
       "      <th>0</th>\n",
       "      <td>00:00:00:000</td>\n",
       "      <td>requestjob</td>\n",
       "      <td>1.0</td>\n",
       "    </tr>\n",
       "    <tr>\n",
       "      <th>1</th>\n",
       "      <td>00:00:40:000</td>\n",
       "      <td>requestjob</td>\n",
       "      <td>1.0</td>\n",
       "    </tr>\n",
       "    <tr>\n",
       "      <th>2</th>\n",
       "      <td>00:00:42:000</td>\n",
       "      <td>server1</td>\n",
       "      <td>1.0</td>\n",
       "    </tr>\n",
       "  </tbody>\n",
       "</table>\n",
       "</div>"
      ],
      "text/plain": [
       "           time        port  value\n",
       "0  00:00:00:000  requestjob    1.0\n",
       "1  00:00:40:000  requestjob    1.0\n",
       "2  00:00:42:000     server1    1.0"
      ]
     },
     "metadata": {},
     "output_type": "display_data"
    }
   ],
   "source": [
    "display(results.output_df.head(100))"
   ]
  },
  {
   "cell_type": "code",
   "execution_count": 16,
   "metadata": {},
   "outputs": [
    {
     "name": "stdout",
     "output_type": "stream",
     "text": [
      "dict_keys(['a_dispatcher', 'top', 'ParallelRoot']) \n",
      "\n",
      "\n"
     ]
    },
    {
     "data": {
      "text/html": [
       "<div>\n",
       "<style scoped>\n",
       "    .dataframe tbody tr th:only-of-type {\n",
       "        vertical-align: middle;\n",
       "    }\n",
       "\n",
       "    .dataframe tbody tr th {\n",
       "        vertical-align: top;\n",
       "    }\n",
       "\n",
       "    .dataframe thead th {\n",
       "        text-align: right;\n",
       "    }\n",
       "</style>\n",
       "<table border=\"1\" class=\"dataframe\">\n",
       "  <thead>\n",
       "    <tr style=\"text-align: right;\">\n",
       "      <th></th>\n",
       "      <th>0</th>\n",
       "      <th>1</th>\n",
       "      <th>message_type</th>\n",
       "      <th>time</th>\n",
       "      <th>model_origin</th>\n",
       "      <th>port</th>\n",
       "      <th>value</th>\n",
       "      <th>model_dest</th>\n",
       "    </tr>\n",
       "  </thead>\n",
       "  <tbody>\n",
       "    <tr>\n",
       "      <th>0</th>\n",
       "      <td>0</td>\n",
       "      <td>L</td>\n",
       "      <td>Y</td>\n",
       "      <td>00:00:00:000</td>\n",
       "      <td>top(02)</td>\n",
       "      <td>requestjob</td>\n",
       "      <td>1.0</td>\n",
       "      <td>ParallelRoot(00)</td>\n",
       "    </tr>\n",
       "    <tr>\n",
       "      <th>1</th>\n",
       "      <td>0</td>\n",
       "      <td>L</td>\n",
       "      <td>Y</td>\n",
       "      <td>00:00:40:000</td>\n",
       "      <td>top(02)</td>\n",
       "      <td>requestjob</td>\n",
       "      <td>1.0</td>\n",
       "      <td>ParallelRoot(00)</td>\n",
       "    </tr>\n",
       "    <tr>\n",
       "      <th>2</th>\n",
       "      <td>0</td>\n",
       "      <td>L</td>\n",
       "      <td>Y</td>\n",
       "      <td>00:00:42:000</td>\n",
       "      <td>top(02)</td>\n",
       "      <td>server1</td>\n",
       "      <td>1.0</td>\n",
       "      <td>ParallelRoot(00)</td>\n",
       "    </tr>\n",
       "  </tbody>\n",
       "</table>\n",
       "</div>"
      ],
      "text/plain": [
       "   0  1 message_type          time model_origin        port  value  \\\n",
       "0  0  L            Y  00:00:00:000      top(02)  requestjob    1.0   \n",
       "1  0  L            Y  00:00:40:000      top(02)  requestjob    1.0   \n",
       "2  0  L            Y  00:00:42:000      top(02)     server1    1.0   \n",
       "\n",
       "         model_dest  \n",
       "0  ParallelRoot(00)  \n",
       "1  ParallelRoot(00)  \n",
       "2  ParallelRoot(00)  "
      ]
     },
     "metadata": {},
     "output_type": "display_data"
    }
   ],
   "source": [
    "print(results.logs_dfs.keys(),'\\n\\n')\n",
    "display(results.logs_dfs['ParallelRoot'].head())"
   ]
  },
  {
   "cell_type": "code",
   "execution_count": 11,
   "metadata": {},
   "outputs": [],
   "source": [
    "# import matplotlib.pyplot as plt\n",
    "# from pringles.utils import vtime_decorate\n",
    "\n",
    "# fig, axes = plt.subplots(1, 3, figsize=(20, 10))\n",
    "# results.plot_port('ParallelRoot', 'out_port', axes=vtime_decorate(axes[0]), index=0)\n",
    "# results.plot_port('ParallelRoot', 'out_port', axes=vtime_decorate(axes[1]), index=1)\n",
    "# results.plot_port('ParallelRoot', 'out_port', axes=vtime_decorate(axes[2]), index=2)"
   ]
  },
  {
   "cell_type": "code",
   "execution_count": null,
   "metadata": {},
   "outputs": [],
   "source": [
    "pickle_path = a_simulation.output_dir + '/simulation.pkl'\n",
    "\n",
    "recovered_simulation = Simulation.read_pickle(pickle_path)"
   ]
  },
  {
   "cell_type": "markdown",
   "metadata": {},
   "source": [
    "**Warning:** for this to work you will have to have the Simulator object instanciated so the model Atomics are discovered."
   ]
  },
  {
   "cell_type": "code",
   "execution_count": null,
   "metadata": {},
   "outputs": [],
   "source": [
    "recovered_simulation.result.output_df.head()"
   ]
  },
  {
   "cell_type": "code",
   "execution_count": null,
   "metadata": {},
   "outputs": [],
   "source": [
    "results.plot_port('newJob')"
   ]
  }
 ],
 "metadata": {
  "kernelspec": {
   "display_name": "Python 2",
   "language": "python",
   "name": "python2"
  },
  "language_info": {
   "codemirror_mode": {
    "name": "ipython",
    "version": 3
   },
   "file_extension": ".py",
   "mimetype": "text/x-python",
   "name": "python",
   "nbconvert_exporter": "python",
   "pygments_lexer": "ipython3",
   "version": "3.7.4"
  }
 },
 "nbformat": 4,
 "nbformat_minor": 4
}
