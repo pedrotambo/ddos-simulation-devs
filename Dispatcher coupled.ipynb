{
 "cells": [
  {
   "cell_type": "code",
   "execution_count": 1,
   "metadata": {},
   "outputs": [],
   "source": [
    "from pringles.simulator import Simulator\n",
    "mySimulator = Simulator(cdpp_bin_path='bin/', user_models_dir='src/')"
   ]
  },
  {
   "cell_type": "code",
   "execution_count": 2,
   "metadata": {},
   "outputs": [
    {
     "name": "stdout",
     "output_type": "stream",
     "text": [
      "<class 'pringles.models.models.Server'>\n",
      "<class 'pringles.models.models.Dispatcher'>\n"
     ]
    }
   ],
   "source": [
    "for atomic in mySimulator.atomic_registry.discovered_atomics:\n",
    "    if atomic.__name__ == \"Server\":\n",
    "        Server = atomic\n",
    "    elif atomic.__name__ == \"AutoScaler\":\n",
    "        AutoScaler = atomic\n",
    "    elif atomic.__name__ == \"ServerQueue\":\n",
    "        ServerQueue = atomic\n",
    "    elif atomic.__name__ == \"Dispatcher\":\n",
    "        Dispatcher = atomic\n",
    "\n",
    "print(Server)\n",
    "print(Dispatcher)"
   ]
  },
  {
   "cell_type": "code",
   "execution_count": 3,
   "metadata": {},
   "outputs": [
    {
     "name": "stdout",
     "output_type": "stream",
     "text": [
      "Inport names:  ['newJob', 'jobDone', 'serverStackInfo']\n",
      "Outport names:  ['requestJob', 'server0', 'server1', 'server2', 'server3', 'server4']\n"
     ]
    }
   ],
   "source": [
    "from pringles.models import Coupled \n",
    "a_dispatcher = Dispatcher(\"a_dispatcher\", numberOfServers=5, server2=\"free\")\n",
    "\n",
    "print(\"Inport names: \", [port.name for port in a_dispatcher.inports])\n",
    "print(\"Outport names: \", [port.name for port in a_dispatcher.outports])"
   ]
  },
  {
   "cell_type": "code",
   "execution_count": 4,
   "metadata": {},
   "outputs": [],
   "source": [
    "top_model = (Coupled(name='top', subcomponents=[a_dispatcher])\n",
    "                .add_inport(\"newJob\")\n",
    "                .add_inport(\"jobDone\")             \n",
    "                .add_inport(\"serverStackInfo\")\n",
    "                .add_outport(\"requestJob\")\n",
    "                .add_outport(\"server0\")\n",
    "                .add_outport(\"server1\")\n",
    "                .add_outport(\"server2\")\n",
    "                .add_outport(\"server3\")\n",
    "                .add_outport(\"server4\")  \n",
    "                .add_coupling('newJob', a_dispatcher.get_port(\"newJob\"))\n",
    "                .add_coupling('jobDone', a_dispatcher.get_port(\"jobDone\"))\n",
    "                .add_coupling('serverStackInfo', a_dispatcher.get_port(\"serverStackInfo\"))\n",
    "             \n",
    "                .add_coupling(a_dispatcher.get_port('requestJob'), \"requestJob\")\n",
    "                .add_coupling(a_dispatcher.get_port('server0'), \"server0\")\n",
    "                .add_coupling(a_dispatcher.get_port('server1'), \"server1\")\n",
    "                .add_coupling(a_dispatcher.get_port('server2'), \"server2\")\n",
    "                .add_coupling(a_dispatcher.get_port('server3'), \"server3\")\n",
    "                .add_coupling(a_dispatcher.get_port('server4'), \"server4\")\n",
    "            )\n",
    "# top_model"
   ]
  },
  {
   "cell_type": "code",
   "execution_count": 5,
   "metadata": {},
   "outputs": [],
   "source": [
    "from pringles.simulator import Simulation, Event\n",
    "from pringles.utils import VirtualTime"
   ]
  },
  {
   "cell_type": "code",
   "execution_count": 6,
   "metadata": {},
   "outputs": [],
   "source": [
    "# sim_events = [\n",
    "#     Event(VirtualTime(0,0,15,0,0), top_model.get_port('newJob'), float(1)),\n",
    "#     Event(VirtualTime(0,0,20,0,0), top_model.get_port('jobDone'), float(0)),\n",
    "#     Event(VirtualTime(0,0,25,0,0), top_model.get_port('newJob'), float(1)),\n",
    "#     Event(VirtualTime(0,0,30,0,0), top_model.get_port('jobDone'), float(1))\n",
    "# ]\n",
    "\n",
    "# events 09\n",
    "# sim_events = [\n",
    "#     Event(VirtualTime(0,0,15,0,0), top_model.get_port('serverStackInfo'), [float(0), float(1)])\n",
    "# ]\n",
    "\n",
    "# events 15\n",
    "sim_events = [\n",
    "    Event(VirtualTime(0,0,20,0,0), top_model.get_port('serverStackInfo'), [float(2),float(0)]),\n",
    "    Event(VirtualTime(0,0,25,0,0), top_model.get_port('newJob'), float(1)),\n",
    "    Event(VirtualTime(0,0,35,0,0), top_model.get_port('serverStackInfo'), [float(3),float(1)]),\n",
    "    Event(VirtualTime(0,0,40,0,0), top_model.get_port('serverStackInfo'), [float(1),float(1)]),\n",
    "    Event(VirtualTime(0,0,42,0,0), top_model.get_port('newJob'), float(1))\n",
    "]\n",
    "\n",
    "a_simulation = Simulation(top_model = top_model, \n",
    "                          duration = VirtualTime.of_minutes(50), \n",
    "                          events=sim_events,\n",
    "                          working_dir='sim_results/'\n",
    "                         )\n",
    "\n",
    "results = mySimulator.run_simulation(a_simulation)"
   ]
  },
  {
   "cell_type": "code",
   "execution_count": 7,
   "metadata": {
    "scrolled": true
   },
   "outputs": [
    {
     "name": "stdout",
     "output_type": "stream",
     "text": [
      "PCD++: A Tool to Implement n-Dimensional Cell-DEVS models\n",
      "Version 3.0 - March 2003\n",
      "Troccoli A., Rodriguez D., Wainer G., Barylko A., Beyoglonian J., Lopez A.\n",
      "-----------------------------------------------------------------------------\n",
      "PCD++ Extended States: An extended and improved version of CD++ for Cell-DEVS\n",
      "Version 4.1.2 - December 2018\n",
      "Santi L., Castro, R., Pimás, J.\n",
      "-----------------------------------------------------------------------------\n",
      "Discrete Event Simulation Lab\n",
      "Departamento de Computación\n",
      "Facultad de Ciencias Exactas y Naturales\n",
      "Universidad de Buenos Aires, Argentina\n",
      "-----------------------------------------------------------------------------\n",
      "Compiled for standalone simulation\n",
      "\n",
      "\n",
      "Loading models from sim_results/2019-10-08-232710-80c1d3eec31040d1814ad431aa4c0adf/top_model\n",
      "Loading events from sim_results/2019-10-08-232710-80c1d3eec31040d1814ad431aa4c0adf/events\n",
      "Running parallel simulation. Reading models partition from \n",
      "Model partition details output to: /dev/null*\n",
      "Message log: sim_results/2019-10-08-232710-80c1d3eec31040d1814ad431aa4c0adf/logs\n",
      "Output to: sim_results/2019-10-08-232710-80c1d3eec31040d1814ad431aa4c0adf/output\n",
      "Tolerance set to: 1e-08\n",
      "Configuration to show real numbers: Width = 12 - Precision = 5\n",
      "Quantum: Not used\n",
      "Evaluate Debug Mode = OFF\n",
      "Flat Cell Debug Mode = OFF\n",
      "Debug Cell Rules Mode = OFF\n",
      "Temporary File created by Preprocessor = /var/tmp/tmp.0.zaPd5s\n",
      "Printing parser information = OFF\n",
      "\n",
      "Stop at time: 00:50:00:000:0\n",
      "Dispatcher atomic successfully created\n",
      "Dispatcher parameters:\n",
      "\tnumberOfServers: 5\n",
      "\tstatusOfServer 0: off\n",
      "\tstatusOfServer 1: off\n",
      "\tstatusOfServer 2: free\n",
      "\tstatusOfServer 3: off\n",
      "\tstatusOfServer 4: off\n",
      "LP 0: initializing simulation objects\n",
      "00:00:20:000:0 / serverstackinfo / [2, 0]\n",
      "00:00:25:000:0 / newjob /      1.00000\n",
      "00:00:35:000:0 / serverstackinfo / [3, 1]\n",
      "00:00:40:000:0 / serverstackinfo / [1, 1]\n",
      "00:00:42:000:0 / newjob /      1.00000\n",
      "LP 0: starting simulation (NoTime).\n",
      "Dispatcher atomic initialized\n",
      "New Job arrived, id assigned: 1\n",
      "Simulation complete!\n",
      "Simulation ended!\n",
      "LP 0 has finished simulation \n",
      "\n"
     ]
    }
   ],
   "source": [
    "print(results.get_process_output())"
   ]
  },
  {
   "cell_type": "code",
   "execution_count": 8,
   "metadata": {},
   "outputs": [
    {
     "data": {
      "text/html": [
       "<div>\n",
       "<style scoped>\n",
       "    .dataframe tbody tr th:only-of-type {\n",
       "        vertical-align: middle;\n",
       "    }\n",
       "\n",
       "    .dataframe tbody tr th {\n",
       "        vertical-align: top;\n",
       "    }\n",
       "\n",
       "    .dataframe thead th {\n",
       "        text-align: right;\n",
       "    }\n",
       "</style>\n",
       "<table border=\"1\" class=\"dataframe\">\n",
       "  <thead>\n",
       "    <tr style=\"text-align: right;\">\n",
       "      <th></th>\n",
       "      <th>time</th>\n",
       "      <th>port</th>\n",
       "      <th>value</th>\n",
       "    </tr>\n",
       "  </thead>\n",
       "  <tbody>\n",
       "    <tr>\n",
       "      <th>0</th>\n",
       "      <td>00:00:00:000</td>\n",
       "      <td>requestjob</td>\n",
       "      <td>1.0</td>\n",
       "    </tr>\n",
       "    <tr>\n",
       "      <th>1</th>\n",
       "      <td>00:00:35:000</td>\n",
       "      <td>server3</td>\n",
       "      <td>0.0</td>\n",
       "    </tr>\n",
       "    <tr>\n",
       "      <th>2</th>\n",
       "      <td>00:00:40:000</td>\n",
       "      <td>requestjob</td>\n",
       "      <td>1.0</td>\n",
       "    </tr>\n",
       "    <tr>\n",
       "      <th>3</th>\n",
       "      <td>00:00:42:000</td>\n",
       "      <td>server1</td>\n",
       "      <td>1.0</td>\n",
       "    </tr>\n",
       "  </tbody>\n",
       "</table>\n",
       "</div>"
      ],
      "text/plain": [
       "           time        port  value\n",
       "0  00:00:00:000  requestjob    1.0\n",
       "1  00:00:35:000     server3    0.0\n",
       "2  00:00:40:000  requestjob    1.0\n",
       "3  00:00:42:000     server1    1.0"
      ]
     },
     "metadata": {},
     "output_type": "display_data"
    }
   ],
   "source": [
    "display(results.output_df.head(100))"
   ]
  },
  {
   "cell_type": "code",
   "execution_count": 18,
   "metadata": {},
   "outputs": [
    {
     "name": "stdout",
     "output_type": "stream",
     "text": [
      "dict_keys(['a_dispatcher', 'top', 'ParallelRoot']) \n",
      "\n",
      "\n"
     ]
    },
    {
     "data": {
      "text/html": [
       "<div>\n",
       "<style scoped>\n",
       "    .dataframe tbody tr th:only-of-type {\n",
       "        vertical-align: middle;\n",
       "    }\n",
       "\n",
       "    .dataframe tbody tr th {\n",
       "        vertical-align: top;\n",
       "    }\n",
       "\n",
       "    .dataframe thead th {\n",
       "        text-align: right;\n",
       "    }\n",
       "</style>\n",
       "<table border=\"1\" class=\"dataframe\">\n",
       "  <thead>\n",
       "    <tr style=\"text-align: right;\">\n",
       "      <th></th>\n",
       "      <th>0</th>\n",
       "      <th>1</th>\n",
       "      <th>message_type</th>\n",
       "      <th>time</th>\n",
       "      <th>model_origin</th>\n",
       "      <th>port</th>\n",
       "      <th>value</th>\n",
       "      <th>model_dest</th>\n",
       "    </tr>\n",
       "  </thead>\n",
       "  <tbody>\n",
       "  </tbody>\n",
       "</table>\n",
       "</div>"
      ],
      "text/plain": [
       "Empty DataFrame\n",
       "Columns: [0, 1, message_type, time, model_origin, port, value, model_dest]\n",
       "Index: []"
      ]
     },
     "metadata": {},
     "output_type": "display_data"
    }
   ],
   "source": [
    "print(results.logs_dfs.keys(),'\\n\\n')\n",
    "display(results.logs_dfs['ParallelRoot'].head())"
   ]
  },
  {
   "cell_type": "code",
   "execution_count": 11,
   "metadata": {},
   "outputs": [],
   "source": [
    "# import matplotlib.pyplot as plt\n",
    "# from pringles.utils import vtime_decorate\n",
    "\n",
    "# fig, axes = plt.subplots(1, 3, figsize=(20, 10))\n",
    "# results.plot_port('ParallelRoot', 'out_port', axes=vtime_decorate(axes[0]), index=0)\n",
    "# results.plot_port('ParallelRoot', 'out_port', axes=vtime_decorate(axes[1]), index=1)\n",
    "# results.plot_port('ParallelRoot', 'out_port', axes=vtime_decorate(axes[2]), index=2)"
   ]
  },
  {
   "cell_type": "code",
   "execution_count": null,
   "metadata": {},
   "outputs": [],
   "source": [
    "pickle_path = a_simulation.output_dir + '/simulation.pkl'\n",
    "\n",
    "recovered_simulation = Simulation.read_pickle(pickle_path)"
   ]
  },
  {
   "cell_type": "markdown",
   "metadata": {},
   "source": [
    "**Warning:** for this to work you will have to have the Simulator object instanciated so the model Atomics are discovered."
   ]
  },
  {
   "cell_type": "code",
   "execution_count": null,
   "metadata": {},
   "outputs": [],
   "source": [
    "recovered_simulation.result.output_df.head()"
   ]
  },
  {
   "cell_type": "code",
   "execution_count": null,
   "metadata": {},
   "outputs": [],
   "source": [
    "results.plot_port('newJob')"
   ]
  }
 ],
 "metadata": {
  "kernelspec": {
   "display_name": "Python 2",
   "language": "python",
   "name": "python2"
  },
  "language_info": {
   "codemirror_mode": {
    "name": "ipython",
    "version": 3
   },
   "file_extension": ".py",
   "mimetype": "text/x-python",
   "name": "python",
   "nbconvert_exporter": "python",
   "pygments_lexer": "ipython3",
   "version": "3.7.4"
  }
 },
 "nbformat": 4,
 "nbformat_minor": 4
}
